{
 "cells": [
  {
   "cell_type": "code",
   "execution_count": 1,
   "id": "19711e1c",
   "metadata": {},
   "outputs": [],
   "source": [
    "import time\n",
    "import requests\n",
    "import numpy as np\n",
    "import pandas as pd\n",
    "from bs4 import BeautifulSoup\n",
    "import json\n",
    "from selenium import webdriver\n",
    "from selenium.webdriver.chrome.options import Options\n",
    "pd.set_option('display.expand_frame_repr', False)  # display full dataframe width"
   ]
  },
  {
   "cell_type": "code",
   "execution_count": 2,
   "id": "b2e5ae01",
   "metadata": {},
   "outputs": [
    {
     "name": "stdout",
     "output_type": "stream",
     "text": [
      "https://www.goodreads.com/list/show/1.Best_Books_Ever?page=1\n"
     ]
    }
   ],
   "source": [
    "URLSTART=\"https://www.goodreads.com\"\n",
    "BESTBOOKS=\"/list/show/1.Best_Books_Ever?page=\"\n",
    "url = URLSTART+BESTBOOKS+'1'\n",
    "print(url)\n",
    "page = requests.get(url)\n",
    "\n"
   ]
  },
  {
   "cell_type": "code",
   "execution_count": 3,
   "id": "757acec4",
   "metadata": {},
   "outputs": [
    {
     "data": {
      "text/plain": [
       "200"
      ]
     },
     "execution_count": 3,
     "metadata": {},
     "output_type": "execute_result"
    }
   ],
   "source": [
    "#Check for properties of the page:\n",
    "page.status_code"
   ]
  },
  {
   "cell_type": "code",
   "execution_count": 15,
   "id": "2783c574",
   "metadata": {},
   "outputs": [
    {
     "name": "stdout",
     "output_type": "stream",
     "text": [
      "FTW page01.html\n",
      "FTW page02.html\n"
     ]
    }
   ],
   "source": [
    "#Writing a loop to fetch 10 pages:\n",
    "\n",
    "\n",
    "URLSTART=\"https://www.goodreads.com\"\n",
    "BESTBOOKS=\"/list/show/1.Best_Books_Ever?page=\"\n",
    "for i in range(1,3):\n",
    "    bookpage=str(i)\n",
    "    stuff=requests.get(URLSTART+BESTBOOKS+bookpage)\n",
    "    filetowrite=\"page\"+ '%02d' % i + \".html\"\n",
    "    print(\"FTW\", filetowrite)\n",
    "    fd=open(filetowrite,\"w\")\n",
    "    fd.write(stuff.text)\n",
    "    fd.close()\n",
    "    time.sleep(2)\n",
    "\n"
   ]
  },
  {
   "cell_type": "code",
   "execution_count": 16,
   "id": "6b6d20ed",
   "metadata": {},
   "outputs": [
    {
     "name": "stdout",
     "output_type": "stream",
     "text": [
      "FTW page01.html\n",
      "['/book/show/2767052-the-hunger-games', '/book/show/2.Harry_Potter_and_the_Order_of_the_Phoenix']\n",
      "FTW page02.html\n",
      "['/book/show/6.Harry_Potter_and_the_Goblet_of_Fire', '/book/show/153747.Moby_Dick_or_the_Whale']\n"
     ]
    }
   ],
   "source": [
    "# Parse the page, extract book urls\n",
    "\n",
    "\n",
    "\n",
    "bookdict={}\n",
    "for i in range(1,3):\n",
    "    books=[]\n",
    "    stri = '%02d' % i\n",
    "    filetoread=\"page\"+ stri + '.html'\n",
    "    print(\"FTW\", filetoread)\n",
    "    with open(filetoread) as fdr:\n",
    "        data = fdr.read()\n",
    "    soup = BeautifulSoup(data, 'html.parser')\n",
    "    for e in soup.select('.bookTitle'):\n",
    "        books.append(e['href'])\n",
    "    print(books[:2])\n",
    "    bookdict[stri]=books\n",
    "    fd=open(\"list\"+stri+\".txt\",\"w\")\n",
    "    fd.write(\"\\n\".join(books))\n",
    "    fd.close()\n",
    "\n"
   ]
  },
  {
   "cell_type": "code",
   "execution_count": 17,
   "id": "3e7e6147",
   "metadata": {},
   "outputs": [
    {
     "data": {
      "text/plain": [
       "2"
      ]
     },
     "execution_count": 17,
     "metadata": {},
     "output_type": "execute_result"
    }
   ],
   "source": [
    "len(bookdict)"
   ]
  },
  {
   "cell_type": "code",
   "execution_count": 41,
   "id": "cddccf6b",
   "metadata": {},
   "outputs": [
    {
     "data": {
      "text/plain": [
       "'https://www.goodreads.com/book/show/6.Harry_Potter_and_the_Goblet_of_Fire'"
      ]
     },
     "execution_count": 41,
     "metadata": {},
     "output_type": "execute_result"
    }
   ],
   "source": [
    "# Parse a book page , extract book properties\n",
    "\n",
    "furl=URLSTART+bookdict['02'][0]\n",
    "furl\n",
    "\n"
   ]
  },
  {
   "cell_type": "code",
   "execution_count": 42,
   "id": "92b3996a",
   "metadata": {},
   "outputs": [
    {
     "name": "stdout",
     "output_type": "stream",
     "text": [
      "<Response [200]>\n"
     ]
    }
   ],
   "source": [
    "fstuff=requests.get(furl)\n",
    "print(fstuff)"
   ]
  },
  {
   "cell_type": "code",
   "execution_count": 49,
   "id": "c6cc2f03",
   "metadata": {},
   "outputs": [],
   "source": [
    "import re\n",
    "yearre = r'\\d{4}'\n",
    "def get_year(d):\n",
    "    if d.select_one(\"nobr.greyText\"):\n",
    "        return d.select_one(\"nobr.greyText\").text.strip().split()[-1][:-1]\n",
    "    else:\n",
    "        thetext=d.select(\"div#details div.row\")[1].text.strip()\n",
    "        rowmatch=re.findall(yearre, thetext)\n",
    "        if len(rowmatch) > 0:\n",
    "            rowtext=rowmatch[0].strip()\n",
    "        else:\n",
    "            rowtext=\"NA\"\n",
    "        return rowtext\n",
    "\n",
    "\n",
    "\n",
    "\n"
   ]
  },
  {
   "cell_type": "markdown",
   "id": "e97211bc",
   "metadata": {},
   "source": [
    "## Single Page"
   ]
  },
  {
   "cell_type": "code",
   "execution_count": 14,
   "id": "341eb2bd",
   "metadata": {},
   "outputs": [
    {
     "data": {
      "text/plain": [
       "[]"
      ]
     },
     "execution_count": 14,
     "metadata": {},
     "output_type": "execute_result"
    }
   ],
   "source": [
    "url = 'https://www.goodreads.com/book/show/2767052-the-hunger-games' \n",
    "\n",
    "response = requests.get(url)\n",
    "page = response.text\n",
    "soup = BeautifulSoup(page, \"lxml\")"
   ]
  },
  {
   "cell_type": "code",
   "execution_count": 24,
   "id": "40e7daee",
   "metadata": {},
   "outputs": [
    {
     "data": {
      "text/plain": [
       "'Hardcover'"
      ]
     },
     "execution_count": 24,
     "metadata": {},
     "output_type": "execute_result"
    }
   ],
   "source": [
    "soup.find('div', id ='details').find('span', itemprop = 'bookFormat').text"
   ]
  },
  {
   "cell_type": "code",
   "execution_count": 23,
   "id": "becd823d",
   "metadata": {},
   "outputs": [
    {
     "data": {
      "text/plain": [
       "'English'"
      ]
     },
     "execution_count": 23,
     "metadata": {},
     "output_type": "execute_result"
    }
   ],
   "source": [
    "soup.find('div', id ='details').find('div', itemprop = 'inLanguage').text"
   ]
  },
  {
   "cell_type": "code",
   "execution_count": 29,
   "id": "bbc8ec14",
   "metadata": {},
   "outputs": [
    {
     "data": {
      "text/plain": [
       "<div class=\"bookAuthorProfile__followerCount\">\n",
       "88,841\n",
       "followers\n",
       "</div>"
      ]
     },
     "execution_count": 29,
     "metadata": {},
     "output_type": "execute_result"
    }
   ],
   "source": [
    "soup.find('div', class_ ='bookAuthorProfile__followerCount').text"
   ]
  },
  {
   "cell_type": "code",
   "execution_count": 37,
   "id": "b8fda1b2",
   "metadata": {},
   "outputs": [],
   "source": [
    "for i in soup.find_all('div', class_ ='bigBoxContent containerWithHeaderContent'):#.find_all('div', class_ = 'left')"
   ]
  },
  {
   "cell_type": "code",
   "execution_count": 46,
   "id": "226e215a",
   "metadata": {},
   "outputs": [
    {
     "name": "stdout",
     "output_type": "stream",
     "text": [
      "None\n",
      "None\n",
      "<div class=\"left\">\n",
      "<a class=\"actionLinkLite bookPageGenreLink\" href=\"/genres/young-adult\">Young Adult</a>\n",
      "</div>\n",
      "<div class=\"left\">\n",
      "<a class=\"actionLinkLite bookPageGenreLink\" href=\"/genres/fiction\">Fiction</a>\n",
      "</div>\n",
      "<div class=\"left\">\n",
      "<a class=\"actionLinkLite bookPageGenreLink\" href=\"/genres/science-fiction\">Science Fiction</a> &gt;\n",
      "        <a class=\"actionLinkLite bookPageGenreLink\" href=\"/genres/dystopia\">Dystopia</a>\n",
      "</div>\n",
      "<div class=\"left\">\n",
      "<a class=\"actionLinkLite bookPageGenreLink\" href=\"/genres/fantasy\">Fantasy</a>\n",
      "</div>\n",
      "<div class=\"left\">\n",
      "<a class=\"actionLinkLite bookPageGenreLink\" href=\"/genres/science-fiction\">Science Fiction</a>\n",
      "</div>\n",
      "<div class=\"left\">\n",
      "<a class=\"actionLinkLite bookPageGenreLink\" href=\"/genres/romance\">Romance</a>\n",
      "</div>\n",
      "<div class=\"left\">\n",
      "<a class=\"actionLinkLite bookPageGenreLink\" href=\"/genres/adventure\">Adventure</a>\n",
      "</div>\n",
      "<div class=\"left\">\n",
      "<a class=\"actionLinkLite bookPageGenreLink\" href=\"/genres/young-adult\">Young Adult</a> &gt;\n",
      "        <a class=\"actionLinkLite bookPageGenreLink\" href=\"/genres/teen\">Teen</a>\n",
      "</div>\n",
      "<div class=\"left\">\n",
      "<a class=\"actionLinkLite bookPageGenreLink\" href=\"/genres/apocalyptic\">Apocalyptic</a> &gt;\n",
      "        <a class=\"actionLinkLite bookPageGenreLink\" href=\"/genres/post-apocalyptic\">Post Apocalyptic</a>\n",
      "</div>\n",
      "<div class=\"left\">\n",
      "<a class=\"actionLinkLite bookPageGenreLink\" href=\"/genres/action\">Action</a>\n",
      "</div>\n"
     ]
    }
   ],
   "source": [
    "for i in soup.find_all('div', class_ ='elementList'):\n",
    "    print(i.find('div', class_ = 'left'))\n",
    "    #you'll need to use .get to grab the text"
   ]
  },
  {
   "cell_type": "code",
   "execution_count": null,
   "id": "ed13efc3",
   "metadata": {},
   "outputs": [],
   "source": [
    "\n",
    "\n",
    "# d=BeautifulSoup(fstuff.text, 'html.parser')\n",
    "# title_tag = d.select(\"meta[property='og:title']\")[0]['content']\n",
    "# author_tag = d.find_all('a', {'class': \"authorName\"})[0].text\n",
    "# rating_tag = d.select(\"span[itemprop='ratingValue']\")[0].text.strip()\n",
    "# ratingCount_tag = d.select_one(\"meta[itemprop='ratingCount']\")[\"content\"]\n",
    "# Year_tag = get_year(d)\n",
    "# pages_tag = d.select_one(\"meta[property='books:page_count']\")['content']\n",
    "      \n",
    "\n",
    "\n",
    "\n"
   ]
  },
  {
   "cell_type": "code",
   "execution_count": 52,
   "id": "645b2e38",
   "metadata": {},
   "outputs": [
    {
     "data": {
      "text/plain": [
       "'list02.txt'"
      ]
     },
     "execution_count": 52,
     "metadata": {},
     "output_type": "execute_result"
    }
   ],
   "source": [
    "\"list{:0>2}.txt\".format(2)\n"
   ]
  },
  {
   "cell_type": "code",
   "execution_count": 53,
   "id": "dba41328",
   "metadata": {},
   "outputs": [
    {
     "name": "stdout",
     "output_type": "stream",
     "text": [
      "FTW page1_2767052-the-hunger-games.html\n",
      "FTW page1_2.Harry_Potter_and_the_Order_of_the_Phoenix.html\n",
      "FTW page1_2657.To_Kill_a_Mockingbird.html\n",
      "FTW page1_1885.Pride_and_Prejudice.html\n",
      "FTW page1_41865.Twilight.html\n",
      "FTW page1_19063.The_Book_Thief.html\n",
      "FTW page1_170448.Animal_Farm.html\n",
      "FTW page1_11127.The_Chronicles_of_Narnia.html\n",
      "FTW page1_30.J_R_R_Tolkien_4_Book_Boxed_Set.html\n",
      "FTW page1_11870085-the-fault-in-our-stars.html\n",
      "FTW page1_18405.Gone_with_the_Wind.html\n",
      "FTW page1_386162.The_Hitchhiker_s_Guide_to_the_Galaxy.html\n",
      "FTW page1_370493.The_Giving_Tree.html\n",
      "FTW page1_6185.Wuthering_Heights.html\n",
      "FTW page1_5297.The_Picture_of_Dorian_Gray.html\n",
      "FTW page1_968.The_Da_Vinci_Code.html\n",
      "FTW page1_10210.Jane_Eyre.html\n",
      "FTW page1_929.Memoirs_of_a_Geisha.html\n",
      "FTW page1_24213.Alice_s_Adventures_in_Wonderland_Through_the_Looking_Glass.html\n",
      "FTW page1_22628.The_Perks_of_Being_a_Wallflower.html\n",
      "FTW page1_3.Harry_Potter_and_the_Sorcerer_s_Stone.html\n",
      "FTW page1_13079982-fahrenheit-451.html\n",
      "FTW page1_24280.Les_Mis_rables.html\n",
      "FTW page1_13335037-divergent.html\n",
      "FTW page1_4671.The_Great_Gatsby.html\n",
      "FTW page1_18144590-the-alchemist.html\n",
      "FTW page1_7144.Crime_and_Punishment.html\n",
      "FTW page1_7624.Lord_of_the_Flies.html\n",
      "FTW page1_18135.Romeo_and_Juliet.html\n",
      "FTW page1_157993.The_Little_Prince.html\n",
      "FTW page1_256683.City_of_Bones.html\n",
      "FTW page1_8127.Anne_of_Green_Gables.html\n",
      "FTW page1_4667024-the-help.html\n",
      "FTW page1_375802.Ender_s_Game.html\n",
      "FTW page1_28187.The_Lightning_Thief.html\n",
      "FTW page1_24178.Charlotte_s_Web.html\n",
      "FTW page1_890.Of_Mice_and_Men.html\n",
      "FTW page1_17245.Dracula.html\n",
      "FTW page1_18619684-the-time-traveler-s-wife.html\n",
      "FTW page1_5129.Brave_New_World.html\n",
      "FTW page1_320.One_Hundred_Years_of_Solitude.html\n",
      "FTW page1_5107.The_Catcher_in_the_Rye.html\n",
      "FTW page1_21787.The_Princess_Bride.html\n",
      "FTW page1_128029.A_Thousand_Splendid_Suns.html\n",
      "FTW page1_2998.The_Secret_Garden.html\n",
      "FTW page1_13496.A_Game_of_Thrones.html\n",
      "FTW page1_33574273-a-wrinkle-in-time.html\n",
      "FTW page1_231804.The_Outsiders.html\n",
      "FTW page1_2956.The_Adventures_of_Huckleberry_Finn.html\n",
      "FTW page1_1381.The_Odyssey.html\n",
      "FTW page1_12232938-the-lovely-bones.html\n",
      "FTW page1_19543.Where_the_Wild_Things_Are.html\n",
      "FTW page1_23772.Green_Eggs_and_Ham.html\n",
      "FTW page1_4214.Life_of_Pi.html\n",
      "FTW page1_1953.A_Tale_of_Two_Cities.html\n",
      "FTW page1_77203.The_Kite_Runner.html\n",
      "FTW page1_7604.Lolita.html\n",
      "FTW page1_43641.Water_for_Elephants.html\n",
      "FTW page1_35031085-frankenstein.html\n",
      "FTW page1_38447.The_Handmaid_s_Tale.html\n",
      "FTW page1_3636.The_Giver.html\n",
      "FTW page1_4981.Slaughterhouse_Five.html\n",
      "FTW page1_1934.Little_Women.html\n",
      "FTW page1_44767458-dune.html\n",
      "FTW page1_136251.Harry_Potter_and_the_Deathly_Hallows.html\n",
      "FTW page1_40961427-1984.html\n",
      "FTW page1_168668.Catch_22.html\n",
      "FTW page1_149267.The_Stand.html\n",
      "FTW page1_5043.The_Pillars_of_the_Earth.html\n",
      "FTW page1_3590.The_Adventures_of_Sherlock_Holmes.html\n",
      "FTW page1_76620.Watership_Down.html\n",
      "FTW page1_6514.The_Bell_Jar.html\n",
      "FTW page1_39988.Matilda.html\n",
      "FTW page1_2623.Great_Expectations.html\n",
      "FTW page1_15823480-anna-karenina.html\n",
      "FTW page1_3263607-the-fellowship-of-the-ring.html\n",
      "FTW page1_332613.One_Flew_Over_the_Cuckoo_s_Nest.html\n",
      "FTW page1_10964.Outlander.html\n",
      "FTW page1_2429135.The_Girl_with_the_Dragon_Tattoo.html\n",
      "FTW page1_17899948-rebecca.html\n",
      "FTW page1_10917.My_Sister_s_Keeper.html\n",
      "FTW page1_5.Harry_Potter_and_the_Prisoner_of_Azkaban.html\n",
      "FTW page1_52892857-the-color-purple.html\n",
      "FTW page1_14891.A_Tree_Grows_in_Brooklyn.html\n",
      "FTW page1_4934.The_Brothers_Karamazov.html\n",
      "FTW page1_41817486-a-clockwork-orange.html\n",
      "FTW page1_6288.The_Road.html\n",
      "FTW page1_252577.Angela_s_Ashes.html\n",
      "FTW page1_345627.Vampire_Academy.html\n",
      "FTW page1_52036.Siddhartha.html\n",
      "FTW page1_119322.The_Golden_Compass.html\n",
      "FTW page1_7244.The_Poisonwood_Bible.html\n",
      "FTW page1_3836.Don_Quixote.html\n",
      "FTW page1_662.Atlas_Shrugged.html\n",
      "FTW page1_2165.The_Old_Man_and_the_Sea.html\n",
      "FTW page1_33648131-the-notebook.html\n",
      "FTW page1_99107.Winnie_the_Pooh.html\n",
      "FTW page1_23919.The_Complete_Stories_and_Poems.html\n",
      "FTW page1_43763.Interview_with_the_Vampire.html\n",
      "FTW page1_4473.A_Prayer_for_Owen_Meany.html\n",
      "FTW page2_6.Harry_Potter_and_the_Goblet_of_Fire.html\n",
      "FTW page2_153747.Moby_Dick_or_the_Whale.html\n",
      "FTW page2_1.Harry_Potter_and_the_Half_Blood_Prince.html\n",
      "FTW page2_7171637-clockwork-angel.html\n",
      "FTW page2_37435.The_Secret_Life_of_Bees.html\n",
      "FTW page2_4989.The_Red_Tent.html\n",
      "FTW page2_16299.And_Then_There_Were_None.html\n",
      "FTW page2_49552.The_Stranger.html\n",
      "FTW page2_186074.The_Name_of_the_Wind.html\n",
      "FTW page2_11588.The_Shining.html\n",
      "FTW page2_117833.The_Master_and_Margarita.html\n",
      "FTW page2_2187.Middlesex.html\n",
      "FTW page2_36576608-flowers-for-algernon.html\n",
      "FTW page2_15881.Harry_Potter_and_the_Chamber_of_Secrets.html\n",
      "FTW page2_24583.The_Adventures_of_Tom_Sawyer.html\n",
      "FTW page2_113436.Eragon.html\n",
      "FTW page2_485894.The_Metamorphosis.html\n",
      "FTW page2_6310.Charlie_and_the_Chocolate_Factory.html\n",
      "FTW page2_99561.Looking_for_Alaska.html\n",
      "FTW page2_1618.The_Curious_Incident_of_the_Dog_in_the_Night_Time.html\n",
      "FTW page2_4948.The_Very_Hungry_Caterpillar.html\n",
      "FTW page2_70401.On_the_Road.html\n",
      "FTW page2_1232.The_Shadow_of_the_Wind.html\n",
      "FTW page2_6900.Tuesdays_with_Morrie.html\n",
      "FTW page2_9717.The_Unbearable_Lightness_of_Being.html\n",
      "FTW page2_119073.The_Name_of_the_Rose.html\n",
      "FTW page2_10365.Where_the_Red_Fern_Grows.html\n",
      "FTW page2_22034.The_Godfather.html\n",
      "FTW page2_7126.The_Count_of_Monte_Cristo.html\n",
      "FTW page2_12296.The_Scarlet_Letter.html\n",
      "FTW page2_4556058-the-last-olympian.html\n",
      "FTW page2_168642.In_Cold_Blood.html\n",
      "FTW page2_100915.The_Lion_the_Witch_and_the_Wardrobe.html\n",
      "FTW page2_36236124-fight-club.html\n",
      "FTW page2_830502.It.html\n",
      "FTW page2_5907.The_Hobbit_or_There_and_Back_Again.html\n",
      "FTW page2_3431.The_Five_People_You_Meet_in_Heaven.html\n",
      "FTW page2_6339664-hush-hush.html\n",
      "FTW page2_343.Perfume.html\n",
      "FTW page2_38709.Holes.html\n",
      "FTW page2_233093.The_Cat_in_the_Hat.html\n",
      "FTW page2_30165203-american-gods.html\n",
      "FTW page2_256008.Lonesome_Dove.html\n",
      "FTW page2_472331.Watchmen.html\n",
      "FTW page2_6656.The_Divine_Comedy.html\n",
      "FTW page2_58572970-the-addiction-manifesto.html\n",
      "FTW page2_114345.The_Little_House_Collection.html\n",
      "FTW page2_34268.Peter_Pan.html\n",
      "FTW page2_355697.All_Quiet_on_the_Western_Front.html\n",
      "FTW page2_9712.Love_in_the_Time_of_Cholera.html\n",
      "FTW page2_11735983-insurgent.html\n",
      "FTW page2_1423.The_Compleat_Works_of_Wllm_Shkspr.html\n",
      "FTW page2_35545737-a-walk-to-remember.html\n",
      "FTW page2_3412.The_Thorn_Birds.html\n",
      "FTW page2_2802316-shadow-kiss.html\n",
      "FTW page2_12067.Good_Omens.html\n",
      "FTW page2_113946.How_the_Grinch_Stole_Christmas_.html\n",
      "FTW page2_37415.Their_Eyes_Were_Watching_God.html\n",
      "FTW page2_92303.The_Importance_of_Being_Earnest.html\n",
      "FTW page2_13.The_Ultimate_Hitchhiker_s_Guide_to_the_Galaxy.html\n",
      "FTW page2_19501.Eat_Pray_Love.html\n",
      "FTW page2_6867.Atonement.html\n",
      "FTW page2_236093.The_Wonderful_Wizard_of_Oz.html\n",
      "FTW page2_7190.The_Three_Musketeers.html\n",
      "FTW page2_18335634-clockwork-princess.html\n",
      "FTW page2_2120932.The_Battle_of_the_Labyrinth.html\n",
      "FTW page2_2282133.Frostbite.html\n",
      "FTW page2_32929.Goodnight_Moon.html\n",
      "FTW page2_7784.The_Lorax.html\n",
      "FTW page2_561456.The_Titan_s_Curse.html\n",
      "FTW page2_1622.A_Midsummer_Night_s_Dream.html\n",
      "FTW page2_28186.The_Sea_of_Monsters.html\n",
      "FTW page2_5996153-blood-promise.html\n",
      "FTW page2_32261.Tess_of_the_D_Urbervilles.html\n",
      "FTW page2_4900.Heart_of_Darkness.html\n",
      "FTW page2_1078.The_Good_Earth.html\n",
      "FTW page2_2547.The_Prophet.html\n",
      "FTW page2_6186357-the-maze-runner.html\n",
      "FTW page2_7938275-the-hunger-games-trilogy-boxset.html\n",
      "FTW page2_1852.The_Call_of_the_Wild.html\n",
      "FTW page2_40940121-bridge-to-terabithia.html\n",
      "FTW page2_40605251-the-mists-of-avalon.html\n",
      "FTW page2_7763.The_Joy_Luck_Club.html\n",
      "FTW page2_13023.Alice_in_Wonderland.html\n",
      "FTW page2_378.The_Phantom_Tollbooth.html\n",
      "FTW page2_71728.Jonathan_Livingston_Seagull.html\n",
      "FTW page2_2175.Madame_Bovary.html\n",
      "FTW page2_18254.Oliver_Twist.html\n",
      "FTW page2_191139.Oh_the_Places_You_ll_Go_.html\n",
      "FTW page2_5060378-the-girl-who-played-with-fire.html\n",
      "FTW page2_27712.The_Neverending_Story.html\n",
      "FTW page2_295.Treasure_Island.html\n",
      "FTW page2_338798.Ulysses.html\n",
      "FTW page2_10818853-fifty-shades-of-grey.html\n",
      "FTW page2_853510.Murder_on_the_Orient_Express.html\n",
      "FTW page2_62291.A_Storm_of_Swords.html\n",
      "FTW page2_40611463-the-clan-of-the-cave-bear.html\n",
      "FTW page2_7896527-throne-of-glass.html\n",
      "FTW page2_2696.The_Canterbury_Tales.html\n"
     ]
    },
    {
     "name": "stdout",
     "output_type": "stream",
     "text": [
      "FTW page2_7069.The_World_According_to_Garp.html\n"
     ]
    }
   ],
   "source": [
    "fetched=[]\n",
    "for i in range(1,3):\n",
    "    with open(\"list{:0>2}.txt\".format(i)) as fd:\n",
    "        counter=0\n",
    "        for bookurl_line in fd:\n",
    "            if counter > 101:\n",
    "                break\n",
    "            bookurl=bookurl_line.strip()\n",
    "            stuff=requests.get(URLSTART+bookurl)\n",
    "            filetowrite=bookurl.split('/')[-1]\n",
    "            filetowrite=\"page\"+str(i)+\"_\"+filetowrite+\".html\"\n",
    "            print(\"FTW\", filetowrite)\n",
    "            fd=open(filetowrite,\"w\", encoding='utf-8')\n",
    "            fd.write(stuff.text)\n",
    "            fd.close()\n",
    "            fetched.append(filetowrite)\n",
    "            time.sleep(2)\n",
    "            counter=counter+1\n",
    "\n",
    "\n",
    "\n",
    "\n",
    " "
   ]
  },
  {
   "cell_type": "code",
   "execution_count": 63,
   "id": "b3ea34a9",
   "metadata": {},
   "outputs": [
    {
     "name": "stdout",
     "output_type": "stream",
     "text": [
      "page1_2767052-the-hunger-games.html\n",
      "page1_2.Harry_Potter_and_the_Order_of_the_Phoenix.html\n",
      "page1_2657.To_Kill_a_Mockingbird.html\n",
      "page1_1885.Pride_and_Prejudice.html\n",
      "page1_41865.Twilight.html\n",
      "page1_19063.The_Book_Thief.html\n",
      "page1_170448.Animal_Farm.html\n",
      "page1_11127.The_Chronicles_of_Narnia.html\n",
      "page1_30.J_R_R_Tolkien_4_Book_Boxed_Set.html\n",
      "page1_11870085-the-fault-in-our-stars.html\n",
      "page1_18405.Gone_with_the_Wind.html\n",
      "page1_386162.The_Hitchhiker_s_Guide_to_the_Galaxy.html\n",
      "page1_370493.The_Giving_Tree.html\n",
      "page1_6185.Wuthering_Heights.html\n",
      "page1_5297.The_Picture_of_Dorian_Gray.html\n",
      "page1_968.The_Da_Vinci_Code.html\n",
      "page1_10210.Jane_Eyre.html\n",
      "page1_929.Memoirs_of_a_Geisha.html\n",
      "page1_24213.Alice_s_Adventures_in_Wonderland_Through_the_Looking_Glass.html\n",
      "page1_22628.The_Perks_of_Being_a_Wallflower.html\n",
      "page1_3.Harry_Potter_and_the_Sorcerer_s_Stone.html\n",
      "page1_13079982-fahrenheit-451.html\n",
      "page1_24280.Les_Mis_rables.html\n",
      "page1_13335037-divergent.html\n",
      "page1_4671.The_Great_Gatsby.html\n",
      "page1_18144590-the-alchemist.html\n",
      "page1_7144.Crime_and_Punishment.html\n",
      "page1_7624.Lord_of_the_Flies.html\n",
      "page1_18135.Romeo_and_Juliet.html\n",
      "page1_157993.The_Little_Prince.html\n",
      "page1_256683.City_of_Bones.html\n",
      "page1_8127.Anne_of_Green_Gables.html\n",
      "page1_4667024-the-help.html\n",
      "page1_375802.Ender_s_Game.html\n",
      "page1_28187.The_Lightning_Thief.html\n",
      "page1_24178.Charlotte_s_Web.html\n",
      "page1_890.Of_Mice_and_Men.html\n",
      "page1_17245.Dracula.html\n",
      "page1_18619684-the-time-traveler-s-wife.html\n",
      "page1_5129.Brave_New_World.html\n",
      "page1_320.One_Hundred_Years_of_Solitude.html\n",
      "page1_5107.The_Catcher_in_the_Rye.html\n",
      "page1_21787.The_Princess_Bride.html\n",
      "page1_128029.A_Thousand_Splendid_Suns.html\n",
      "page1_2998.The_Secret_Garden.html\n",
      "page1_13496.A_Game_of_Thrones.html\n",
      "page1_33574273-a-wrinkle-in-time.html\n",
      "page1_231804.The_Outsiders.html\n",
      "page1_2956.The_Adventures_of_Huckleberry_Finn.html\n",
      "page1_1381.The_Odyssey.html\n",
      "page1_12232938-the-lovely-bones.html\n",
      "page1_19543.Where_the_Wild_Things_Are.html\n",
      "page1_23772.Green_Eggs_and_Ham.html\n",
      "page1_4214.Life_of_Pi.html\n",
      "page1_1953.A_Tale_of_Two_Cities.html\n",
      "page1_77203.The_Kite_Runner.html\n",
      "page1_7604.Lolita.html\n",
      "page1_43641.Water_for_Elephants.html\n",
      "page1_35031085-frankenstein.html\n",
      "page1_38447.The_Handmaid_s_Tale.html\n",
      "page1_3636.The_Giver.html\n",
      "page1_4981.Slaughterhouse_Five.html\n",
      "page1_1934.Little_Women.html\n",
      "page1_44767458-dune.html\n",
      "page1_136251.Harry_Potter_and_the_Deathly_Hallows.html\n",
      "page1_40961427-1984.html\n",
      "page1_168668.Catch_22.html\n",
      "page1_149267.The_Stand.html\n",
      "page1_5043.The_Pillars_of_the_Earth.html\n",
      "page1_3590.The_Adventures_of_Sherlock_Holmes.html\n",
      "page1_76620.Watership_Down.html\n",
      "page1_6514.The_Bell_Jar.html\n",
      "page1_39988.Matilda.html\n",
      "page1_2623.Great_Expectations.html\n",
      "page1_15823480-anna-karenina.html\n",
      "page1_3263607-the-fellowship-of-the-ring.html\n",
      "page1_332613.One_Flew_Over_the_Cuckoo_s_Nest.html\n",
      "page1_10964.Outlander.html\n",
      "page1_2429135.The_Girl_with_the_Dragon_Tattoo.html\n",
      "page1_17899948-rebecca.html\n",
      "page1_10917.My_Sister_s_Keeper.html\n",
      "page1_5.Harry_Potter_and_the_Prisoner_of_Azkaban.html\n",
      "page1_52892857-the-color-purple.html\n",
      "page1_14891.A_Tree_Grows_in_Brooklyn.html\n",
      "page1_4934.The_Brothers_Karamazov.html\n",
      "page1_41817486-a-clockwork-orange.html\n",
      "page1_6288.The_Road.html\n",
      "page1_252577.Angela_s_Ashes.html\n",
      "page1_345627.Vampire_Academy.html\n",
      "page1_52036.Siddhartha.html\n",
      "page1_119322.The_Golden_Compass.html\n",
      "page1_7244.The_Poisonwood_Bible.html\n",
      "page1_3836.Don_Quixote.html\n",
      "page1_662.Atlas_Shrugged.html\n",
      "page1_2165.The_Old_Man_and_the_Sea.html\n",
      "page1_33648131-the-notebook.html\n",
      "page1_99107.Winnie_the_Pooh.html\n",
      "page1_23919.The_Complete_Stories_and_Poems.html\n",
      "page1_43763.Interview_with_the_Vampire.html\n",
      "page1_4473.A_Prayer_for_Owen_Meany.html\n",
      "page2_6.Harry_Potter_and_the_Goblet_of_Fire.html\n",
      "page2_153747.Moby_Dick_or_the_Whale.html\n",
      "page2_1.Harry_Potter_and_the_Half_Blood_Prince.html\n",
      "page2_7171637-clockwork-angel.html\n",
      "page2_37435.The_Secret_Life_of_Bees.html\n",
      "page2_4989.The_Red_Tent.html\n",
      "page2_16299.And_Then_There_Were_None.html\n",
      "page2_49552.The_Stranger.html\n",
      "page2_186074.The_Name_of_the_Wind.html\n",
      "page2_11588.The_Shining.html\n",
      "page2_117833.The_Master_and_Margarita.html\n",
      "page2_2187.Middlesex.html\n",
      "page2_36576608-flowers-for-algernon.html\n",
      "page2_15881.Harry_Potter_and_the_Chamber_of_Secrets.html\n",
      "page2_24583.The_Adventures_of_Tom_Sawyer.html\n",
      "page2_113436.Eragon.html\n",
      "page2_485894.The_Metamorphosis.html\n",
      "page2_6310.Charlie_and_the_Chocolate_Factory.html\n",
      "page2_99561.Looking_for_Alaska.html\n",
      "page2_1618.The_Curious_Incident_of_the_Dog_in_the_Night_Time.html\n",
      "page2_4948.The_Very_Hungry_Caterpillar.html\n",
      "page2_70401.On_the_Road.html\n",
      "page2_1232.The_Shadow_of_the_Wind.html\n",
      "page2_6900.Tuesdays_with_Morrie.html\n",
      "page2_9717.The_Unbearable_Lightness_of_Being.html\n",
      "page2_119073.The_Name_of_the_Rose.html\n",
      "page2_10365.Where_the_Red_Fern_Grows.html\n",
      "page2_22034.The_Godfather.html\n",
      "page2_7126.The_Count_of_Monte_Cristo.html\n",
      "page2_12296.The_Scarlet_Letter.html\n",
      "page2_4556058-the-last-olympian.html\n",
      "page2_168642.In_Cold_Blood.html\n",
      "page2_100915.The_Lion_the_Witch_and_the_Wardrobe.html\n",
      "page2_36236124-fight-club.html\n",
      "page2_830502.It.html\n",
      "page2_5907.The_Hobbit_or_There_and_Back_Again.html\n",
      "page2_3431.The_Five_People_You_Meet_in_Heaven.html\n",
      "page2_6339664-hush-hush.html\n",
      "page2_343.Perfume.html\n",
      "page2_38709.Holes.html\n",
      "page2_233093.The_Cat_in_the_Hat.html\n",
      "page2_30165203-american-gods.html\n",
      "page2_256008.Lonesome_Dove.html\n",
      "page2_472331.Watchmen.html\n",
      "page2_6656.The_Divine_Comedy.html\n",
      "page2_58572970-the-addiction-manifesto.html\n",
      "page2_114345.The_Little_House_Collection.html\n",
      "page2_34268.Peter_Pan.html\n",
      "page2_355697.All_Quiet_on_the_Western_Front.html\n",
      "page2_9712.Love_in_the_Time_of_Cholera.html\n",
      "page2_11735983-insurgent.html\n",
      "page2_1423.The_Compleat_Works_of_Wllm_Shkspr.html\n",
      "page2_35545737-a-walk-to-remember.html\n",
      "page2_3412.The_Thorn_Birds.html\n",
      "page2_2802316-shadow-kiss.html\n",
      "page2_12067.Good_Omens.html\n",
      "page2_113946.How_the_Grinch_Stole_Christmas_.html\n",
      "page2_37415.Their_Eyes_Were_Watching_God.html\n",
      "page2_92303.The_Importance_of_Being_Earnest.html\n",
      "page2_13.The_Ultimate_Hitchhiker_s_Guide_to_the_Galaxy.html\n",
      "page2_19501.Eat_Pray_Love.html\n",
      "page2_6867.Atonement.html\n",
      "page2_236093.The_Wonderful_Wizard_of_Oz.html\n",
      "page2_7190.The_Three_Musketeers.html\n",
      "page2_18335634-clockwork-princess.html\n",
      "page2_2120932.The_Battle_of_the_Labyrinth.html\n",
      "page2_2282133.Frostbite.html\n",
      "page2_32929.Goodnight_Moon.html\n",
      "page2_7784.The_Lorax.html\n",
      "page2_561456.The_Titan_s_Curse.html\n",
      "page2_1622.A_Midsummer_Night_s_Dream.html\n",
      "page2_28186.The_Sea_of_Monsters.html\n",
      "page2_5996153-blood-promise.html\n",
      "page2_32261.Tess_of_the_D_Urbervilles.html\n",
      "page2_4900.Heart_of_Darkness.html\n",
      "page2_1078.The_Good_Earth.html\n",
      "page2_2547.The_Prophet.html\n",
      "page2_6186357-the-maze-runner.html\n",
      "page2_7938275-the-hunger-games-trilogy-boxset.html\n",
      "page2_1852.The_Call_of_the_Wild.html\n",
      "page2_40940121-bridge-to-terabithia.html\n",
      "page2_40605251-the-mists-of-avalon.html\n",
      "page2_7763.The_Joy_Luck_Club.html\n",
      "page2_13023.Alice_in_Wonderland.html\n",
      "page2_378.The_Phantom_Tollbooth.html\n",
      "page2_71728.Jonathan_Livingston_Seagull.html\n",
      "page2_2175.Madame_Bovary.html\n",
      "page2_18254.Oliver_Twist.html\n",
      "page2_191139.Oh_the_Places_You_ll_Go_.html\n",
      "page2_5060378-the-girl-who-played-with-fire.html\n",
      "page2_27712.The_Neverending_Story.html\n",
      "page2_295.Treasure_Island.html\n",
      "page2_338798.Ulysses.html\n",
      "page2_10818853-fifty-shades-of-grey.html\n",
      "page2_853510.Murder_on_the_Orient_Express.html\n",
      "page2_62291.A_Storm_of_Swords.html\n",
      "page2_40611463-the-clan-of-the-cave-bear.html\n",
      "page2_7896527-throne-of-glass.html\n",
      "page2_2696.The_Canterbury_Tales.html\n",
      "page2_7069.The_World_According_to_Garp.html\n"
     ]
    }
   ],
   "source": [
    "listofdicts=[]\n",
    "for filetoread in fetched:\n",
    "    print(filetoread)\n",
    "   \n",
    "        \n",
    "    td={}\n",
    "    with open(filetoread) as fd:\n",
    "        datext = fd.read()\n",
    "    d= BeautifulSoup(datext, 'html.parser')\n",
    "    \n",
    "    \n",
    "    try:\n",
    "        td['author']=d.find_all('a', {'class': \"authorName\"})[0].text\n",
    "    except:\n",
    "        td['title'] = np.NaN\n",
    "    try:\n",
    "        td['title']=d.select_one(\"meta[property='og:title']\")['content']\n",
    "        td['page_count']=d.select_one(\"meta[property='books:page_count']\")['content']\n",
    "        td['rating']=d.select(\"span[itemprop='ratingValue']\")[0].text.strip(' \\n')\n",
    "        td['ratingCount']=d.select_one(\"meta[itemprop='ratingCount']\")[\"content\"]\n",
    "        td['year'] = get_year(d)\n",
    "    except:\n",
    "        pass\n",
    "        #     td['file']=filetoread\n",
    "    listofdicts.append(td)\n",
    "\n"
   ]
  },
  {
   "cell_type": "code",
   "execution_count": 56,
   "id": "79b66246",
   "metadata": {},
   "outputs": [
    {
     "data": {
      "text/plain": [
       "{'title': 'The Hunger Games (The Hunger Games, #1)',\n",
       " 'author': 'Suzanne Collins',\n",
       " 'page_count': '374',\n",
       " 'rating': '4.32',\n",
       " 'ratingCount': '7201936',\n",
       " 'year': '2008',\n",
       " 'file': 'page1_2767052-the-hunger-games.html'}"
      ]
     },
     "execution_count": 56,
     "metadata": {},
     "output_type": "execute_result"
    }
   ],
   "source": [
    "listofdicts[0]\n"
   ]
  },
  {
   "cell_type": "code",
   "execution_count": 67,
   "id": "8c78c413",
   "metadata": {},
   "outputs": [
    {
     "data": {
      "text/html": [
       "<div>\n",
       "<style scoped>\n",
       "    .dataframe tbody tr th:only-of-type {\n",
       "        vertical-align: middle;\n",
       "    }\n",
       "\n",
       "    .dataframe tbody tr th {\n",
       "        vertical-align: top;\n",
       "    }\n",
       "\n",
       "    .dataframe thead th {\n",
       "        text-align: right;\n",
       "    }\n",
       "</style>\n",
       "<table border=\"1\" class=\"dataframe\">\n",
       "  <thead>\n",
       "    <tr style=\"text-align: right;\">\n",
       "      <th></th>\n",
       "      <th>author</th>\n",
       "      <th>title</th>\n",
       "      <th>page_count</th>\n",
       "      <th>rating</th>\n",
       "      <th>ratingCount</th>\n",
       "      <th>year</th>\n",
       "    </tr>\n",
       "  </thead>\n",
       "  <tbody>\n",
       "    <tr>\n",
       "      <th>0</th>\n",
       "      <td>Suzanne Collins</td>\n",
       "      <td>The Hunger Games (The Hunger Games, #1)</td>\n",
       "      <td>374</td>\n",
       "      <td>4.32</td>\n",
       "      <td>7201936</td>\n",
       "      <td>2008</td>\n",
       "    </tr>\n",
       "    <tr>\n",
       "      <th>1</th>\n",
       "      <td>J.K. Rowling</td>\n",
       "      <td>Harry Potter and the Order of the Phoenix (Har...</td>\n",
       "      <td>870</td>\n",
       "      <td>4.50</td>\n",
       "      <td>2859822</td>\n",
       "      <td>2003</td>\n",
       "    </tr>\n",
       "    <tr>\n",
       "      <th>2</th>\n",
       "      <td>Harper Lee</td>\n",
       "      <td>To Kill a Mockingbird</td>\n",
       "      <td>336</td>\n",
       "      <td>4.27</td>\n",
       "      <td>5135736</td>\n",
       "      <td>1960</td>\n",
       "    </tr>\n",
       "    <tr>\n",
       "      <th>3</th>\n",
       "      <td>Jane Austen</td>\n",
       "      <td>Pride and Prejudice</td>\n",
       "      <td>279</td>\n",
       "      <td>4.27</td>\n",
       "      <td>3490948</td>\n",
       "      <td>1813</td>\n",
       "    </tr>\n",
       "    <tr>\n",
       "      <th>4</th>\n",
       "      <td>Stephenie Meyer</td>\n",
       "      <td>Twilight (The Twilight Saga, #1)</td>\n",
       "      <td>498</td>\n",
       "      <td>3.62</td>\n",
       "      <td>5603404</td>\n",
       "      <td>2005</td>\n",
       "    </tr>\n",
       "  </tbody>\n",
       "</table>\n",
       "</div>"
      ],
      "text/plain": [
       "            author                                              title page_count rating ratingCount  year\n",
       "0  Suzanne Collins            The Hunger Games (The Hunger Games, #1)        374   4.32     7201936  2008\n",
       "1     J.K. Rowling  Harry Potter and the Order of the Phoenix (Har...        870   4.50     2859822  2003\n",
       "2       Harper Lee                              To Kill a Mockingbird        336   4.27     5135736  1960\n",
       "3      Jane Austen                                Pride and Prejudice        279   4.27     3490948  1813\n",
       "4  Stephenie Meyer                   Twilight (The Twilight Saga, #1)        498   3.62     5603404  2005"
      ]
     },
     "execution_count": 67,
     "metadata": {},
     "output_type": "execute_result"
    }
   ],
   "source": [
    "books_df = pd.DataFrame.from_records(listofdicts)\n",
    "books_df.head()\n",
    "\n"
   ]
  },
  {
   "cell_type": "code",
   "execution_count": 68,
   "id": "d5148106",
   "metadata": {},
   "outputs": [
    {
     "data": {
      "text/plain": [
       "(200, 6)"
      ]
     },
     "execution_count": 68,
     "metadata": {},
     "output_type": "execute_result"
    }
   ],
   "source": [
    "books_df.shape"
   ]
  },
  {
   "cell_type": "code",
   "execution_count": 69,
   "id": "67cab684",
   "metadata": {},
   "outputs": [
    {
     "name": "stdout",
     "output_type": "stream",
     "text": [
      "<class 'pandas.core.frame.DataFrame'>\n",
      "RangeIndex: 200 entries, 0 to 199\n",
      "Data columns (total 6 columns):\n",
      " #   Column       Non-Null Count  Dtype \n",
      "---  ------       --------------  ----- \n",
      " 0   author       181 non-null    object\n",
      " 1   title        199 non-null    object\n",
      " 2   page_count   181 non-null    object\n",
      " 3   rating       181 non-null    object\n",
      " 4   ratingCount  181 non-null    object\n",
      " 5   year         181 non-null    object\n",
      "dtypes: object(6)\n",
      "memory usage: 9.5+ KB\n"
     ]
    }
   ],
   "source": [
    "books_df.info() # There are null values"
   ]
  },
  {
   "cell_type": "code",
   "execution_count": 70,
   "id": "34da6a8f",
   "metadata": {},
   "outputs": [
    {
     "data": {
      "text/plain": [
       "False"
      ]
     },
     "execution_count": 70,
     "metadata": {},
     "output_type": "execute_result"
    }
   ],
   "source": [
    "books_df.duplicated().any()"
   ]
  },
  {
   "cell_type": "code",
   "execution_count": 72,
   "id": "2581d322",
   "metadata": {},
   "outputs": [
    {
     "data": {
      "text/plain": [
       "author         19\n",
       "title           1\n",
       "page_count     19\n",
       "rating         19\n",
       "ratingCount    19\n",
       "year           19\n",
       "dtype: int64"
      ]
     },
     "execution_count": 72,
     "metadata": {},
     "output_type": "execute_result"
    }
   ],
   "source": [
    "books_df.isnull().sum()"
   ]
  },
  {
   "cell_type": "code",
   "execution_count": 95,
   "id": "89fde9dd",
   "metadata": {},
   "outputs": [],
   "source": [
    "clean_df = books_df.dropna(how='any', axis = 0)\n"
   ]
  },
  {
   "cell_type": "code",
   "execution_count": 97,
   "id": "da88955b",
   "metadata": {},
   "outputs": [
    {
     "name": "stdout",
     "output_type": "stream",
     "text": [
      "<class 'pandas.core.frame.DataFrame'>\n",
      "Int64Index: 181 entries, 0 to 199\n",
      "Data columns (total 6 columns):\n",
      " #   Column       Non-Null Count  Dtype  \n",
      "---  ------       --------------  -----  \n",
      " 0   author       181 non-null    object \n",
      " 1   title        181 non-null    object \n",
      " 2   page_count   181 non-null    object \n",
      " 3   rating       181 non-null    float64\n",
      " 4   ratingCount  181 non-null    object \n",
      " 5   year         181 non-null    object \n",
      "dtypes: float64(1), object(5)\n",
      "memory usage: 9.9+ KB\n"
     ]
    }
   ],
   "source": [
    "clean_df.info()"
   ]
  },
  {
   "cell_type": "code",
   "execution_count": 108,
   "id": "413b00e1",
   "metadata": {},
   "outputs": [
    {
     "name": "stderr",
     "output_type": "stream",
     "text": [
      "/var/folders/p5/5cz9q1c15pn6hbl2m1csrmjh0000gn/T/ipykernel_64693/2797237564.py:1: SettingWithCopyWarning:\n",
      "\n",
      "\n",
      "A value is trying to be set on a copy of a slice from a DataFrame.\n",
      "Try using .loc[row_indexer,col_indexer] = value instead\n",
      "\n",
      "See the caveats in the documentation: https://pandas.pydata.org/pandas-docs/stable/user_guide/indexing.html#returning-a-view-versus-a-copy\n",
      "\n",
      "/var/folders/p5/5cz9q1c15pn6hbl2m1csrmjh0000gn/T/ipykernel_64693/2797237564.py:2: SettingWithCopyWarning:\n",
      "\n",
      "\n",
      "A value is trying to be set on a copy of a slice from a DataFrame.\n",
      "Try using .loc[row_indexer,col_indexer] = value instead\n",
      "\n",
      "See the caveats in the documentation: https://pandas.pydata.org/pandas-docs/stable/user_guide/indexing.html#returning-a-view-versus-a-copy\n",
      "\n",
      "/var/folders/p5/5cz9q1c15pn6hbl2m1csrmjh0000gn/T/ipykernel_64693/2797237564.py:3: SettingWithCopyWarning:\n",
      "\n",
      "\n",
      "A value is trying to be set on a copy of a slice from a DataFrame.\n",
      "Try using .loc[row_indexer,col_indexer] = value instead\n",
      "\n",
      "See the caveats in the documentation: https://pandas.pydata.org/pandas-docs/stable/user_guide/indexing.html#returning-a-view-versus-a-copy\n",
      "\n"
     ]
    }
   ],
   "source": [
    "clean_df[\"rating\"] = pd.to_numeric(clean_df[\"rating\"])\n",
    "clean_df[\"page_count\"] = pd.to_numeric(clean_df[\"page_count\"])\n",
    "clean_df[\"ratingCount\"] = pd.to_numeric(clean_df[\"ratingCount\"])\n"
   ]
  },
  {
   "cell_type": "code",
   "execution_count": 109,
   "id": "d2ec1a4d",
   "metadata": {},
   "outputs": [
    {
     "data": {
      "text/plain": [
       "pandas.core.series.Series"
      ]
     },
     "execution_count": 109,
     "metadata": {},
     "output_type": "execute_result"
    }
   ],
   "source": [
    "type(clean_df.rating)"
   ]
  },
  {
   "cell_type": "code",
   "execution_count": 110,
   "id": "5c92be3c",
   "metadata": {},
   "outputs": [
    {
     "name": "stdout",
     "output_type": "stream",
     "text": [
      "<class 'pandas.core.frame.DataFrame'>\n",
      "Int64Index: 181 entries, 0 to 199\n",
      "Data columns (total 6 columns):\n",
      " #   Column       Non-Null Count  Dtype  \n",
      "---  ------       --------------  -----  \n",
      " 0   author       181 non-null    object \n",
      " 1   title        181 non-null    object \n",
      " 2   page_count   181 non-null    int64  \n",
      " 3   rating       181 non-null    float64\n",
      " 4   ratingCount  181 non-null    int64  \n",
      " 5   year         181 non-null    object \n",
      "dtypes: float64(1), int64(2), object(3)\n",
      "memory usage: 9.9+ KB\n"
     ]
    }
   ],
   "source": [
    "clean_df.info()"
   ]
  },
  {
   "cell_type": "markdown",
   "id": "8ff60493",
   "metadata": {},
   "source": [
    "## Data Visualisation:\n"
   ]
  },
  {
   "cell_type": "code",
   "execution_count": null,
   "id": "11102328",
   "metadata": {},
   "outputs": [],
   "source": []
  },
  {
   "cell_type": "code",
   "execution_count": 111,
   "id": "e41368b3",
   "metadata": {},
   "outputs": [
    {
     "data": {
      "image/png": "[encoded data removed]",
      "text/plain": [
       "<Figure size 432x288 with 1 Axes>"
      ]
     },
     "metadata": {
      "needs_background": "light"
     },
     "output_type": "display_data"
    }
   ],
   "source": [
    "# ratings distribution:\n",
    "import seaborn as sns\n",
    "import matplotlib.pyplot as plt\n",
    "import plotly.express as px\n",
    "\n",
    "\n",
    "\n",
    "sns.kdeplot(clean_df['rating'], shade = True)\n",
    "plt.title('Rating Distribution\\n')\n",
    "plt.xlabel('Rating')\n",
    "plt.ylabel('Frequency')\n",
    "plt.grid()\n",
    "plt.show();\n",
    "\n"
   ]
  },
  {
   "cell_type": "code",
   "execution_count": 105,
   "id": "f0d9198f",
   "metadata": {},
   "outputs": [
    {
     "data": {
      "application/vnd.plotly.v1+json": {
       "config": {
        "plotlyServerURL": "https://plot.ly"
       },
       "data": [
        {
         "alignmentgroup": "True",
         "bingroup": "x",
         "hovertemplate": "rating=%{x}<br>count=%{y}<extra></extra>",
         "legendgroup": "",
         "marker": {
          "color": "#636efa",
          "pattern": {
           "shape": ""
          }
         },
         "name": "",
         "nbinsx": 10,
         "offsetgroup": "",
         "orientation": "v",
         "showlegend": false,
         "type": "histogram",
         "x": [
          4.32,
          4.5,
          4.27,
          4.27,
          3.62,
          4.38,
          3.97,
          4.26,
          4.6,
          4.17,
          4.3,
          4.22,
          4.37,
          3.87,
          4.1,
          3.88,
          4.14,
          4.13,
          4.06,
          4.21,
          4.48,
          3.98,
          4.19,
          4.17,
          3.93,
          3.89,
          4.24,
          3.69,
          3.75,
          4.31,
          4.09,
          4.27,
          4.46,
          4.3,
          4.28,
          4.18,
          3.88,
          4,
          3.98,
          3.99,
          4.1,
          3.81,
          4.26,
          4.4,
          4.14,
          3.99,
          4.11,
          3.82,
          3.79,
          3.83,
          4.22,
          4.29,
          3.86,
          4.32,
          3.88,
          4.1,
          3.83,
          4.12,
          4.13,
          4.08,
          4.11,
          4.62,
          3.98,
          4.34,
          4.32,
          4.3,
          4.07,
          4.03,
          4.32,
          3.79,
          4.07,
          4.37,
          4.24,
          4.15,
          4.23,
          4.58,
          4.24,
          4.28,
          4.34,
          4,
          3.97,
          4.12,
          4.11,
          4.05,
          4,
          4.07,
          3.88,
          3.69,
          3.79,
          4.12,
          4.33,
          4.37,
          4.01,
          4.23,
          4.56,
          3.52,
          4.57,
          4.19,
          4.27,
          4,
          4.52,
          4.25,
          4.29,
          4.02,
          4.17,
          3.92,
          3.92,
          3.84,
          4.14,
          3.89,
          4.3,
          3.62,
          4.28,
          4.13,
          4.11,
          4.13,
          4.09,
          4.37,
          4.27,
          3.42,
          4.51,
          4.22,
          4.18,
          4.24,
          4.28,
          3.95,
          3.94,
          4.03,
          3.98,
          4.17,
          4.1,
          4.49,
          4.37,
          4.05,
          4.97,
          4.34,
          4.04,
          4.01,
          3.93,
          4,
          4.19,
          4.23,
          4.24,
          4.35,
          3.96,
          4.18,
          4.36,
          3.59,
          3.98,
          4.08,
          4.55,
          4.4,
          4.25,
          4.29,
          4.35,
          3.95,
          4.3,
          3.82,
          3.99,
          4.22,
          4.04,
          4.48,
          3.89,
          4.02,
          4.12,
          3.95,
          4.02,
          4.17,
          3.85,
          3.69,
          3.87,
          4.34,
          4.24,
          4.17,
          3.84,
          4.19,
          4.53,
          4.07,
          4.19,
          3.52,
          4.09
         ],
         "xaxis": "x",
         "yaxis": "y"
        },
        {
         "alignmentgroup": "True",
         "hovertemplate": "rating=%{x}<extra></extra>",
         "legendgroup": "",
         "marker": {
          "color": "#636efa"
         },
         "name": "",
         "notched": true,
         "offsetgroup": "",
         "showlegend": false,
         "type": "box",
         "x": [
          4.32,
          4.5,
          4.27,
          4.27,
          3.62,
          4.38,
          3.97,
          4.26,
          4.6,
          4.17,
          4.3,
          4.22,
          4.37,
          3.87,
          4.1,
          3.88,
          4.14,
          4.13,
          4.06,
          4.21,
          4.48,
          3.98,
          4.19,
          4.17,
          3.93,
          3.89,
          4.24,
          3.69,
          3.75,
          4.31,
          4.09,
          4.27,
          4.46,
          4.3,
          4.28,
          4.18,
          3.88,
          4,
          3.98,
          3.99,
          4.1,
          3.81,
          4.26,
          4.4,
          4.14,
          3.99,
          4.11,
          3.82,
          3.79,
          3.83,
          4.22,
          4.29,
          3.86,
          4.32,
          3.88,
          4.1,
          3.83,
          4.12,
          4.13,
          4.08,
          4.11,
          4.62,
          3.98,
          4.34,
          4.32,
          4.3,
          4.07,
          4.03,
          4.32,
          3.79,
          4.07,
          4.37,
          4.24,
          4.15,
          4.23,
          4.58,
          4.24,
          4.28,
          4.34,
          4,
          3.97,
          4.12,
          4.11,
          4.05,
          4,
          4.07,
          3.88,
          3.69,
          3.79,
          4.12,
          4.33,
          4.37,
          4.01,
          4.23,
          4.56,
          3.52,
          4.57,
          4.19,
          4.27,
          4,
          4.52,
          4.25,
          4.29,
          4.02,
          4.17,
          3.92,
          3.92,
          3.84,
          4.14,
          3.89,
          4.3,
          3.62,
          4.28,
          4.13,
          4.11,
          4.13,
          4.09,
          4.37,
          4.27,
          3.42,
          4.51,
          4.22,
          4.18,
          4.24,
          4.28,
          3.95,
          3.94,
          4.03,
          3.98,
          4.17,
          4.1,
          4.49,
          4.37,
          4.05,
          4.97,
          4.34,
          4.04,
          4.01,
          3.93,
          4,
          4.19,
          4.23,
          4.24,
          4.35,
          3.96,
          4.18,
          4.36,
          3.59,
          3.98,
          4.08,
          4.55,
          4.4,
          4.25,
          4.29,
          4.35,
          3.95,
          4.3,
          3.82,
          3.99,
          4.22,
          4.04,
          4.48,
          3.89,
          4.02,
          4.12,
          3.95,
          4.02,
          4.17,
          3.85,
          3.69,
          3.87,
          4.34,
          4.24,
          4.17,
          3.84,
          4.19,
          4.53,
          4.07,
          4.19,
          3.52,
          4.09
         ],
         "xaxis": "x2",
         "yaxis": "y2"
        }
       ],
       "layout": {
        "bargap": 0.1,
        "barmode": "relative",
        "legend": {
         "tracegroupgap": 0
        },
        "template": {
         "data": {
          "bar": [
           {
            "error_x": {
             "color": "#2a3f5f"
            },
            "error_y": {
             "color": "#2a3f5f"
            },
            "marker": {
             "line": {
              "color": "#E5ECF6",
              "width": 0.5
             },
             "pattern": {
              "fillmode": "overlay",
              "size": 10,
              "solidity": 0.2
             }
            },
            "type": "bar"
           }
          ],
          "barpolar": [
           {
            "marker": {
             "line": {
              "color": "#E5ECF6",
              "width": 0.5
             },
             "pattern": {
              "fillmode": "overlay",
              "size": 10,
              "solidity": 0.2
             }
            },
            "type": "barpolar"
           }
          ],
          "carpet": [
           {
            "aaxis": {
             "endlinecolor": "#2a3f5f",
             "gridcolor": "white",
             "linecolor": "white",
             "minorgridcolor": "white",
             "startlinecolor": "#2a3f5f"
            },
            "baxis": {
             "endlinecolor": "#2a3f5f",
             "gridcolor": "white",
             "linecolor": "white",
             "minorgridcolor": "white",
             "startlinecolor": "#2a3f5f"
            },
            "type": "carpet"
           }
          ],
          "choropleth": [
           {
            "colorbar": {
             "outlinewidth": 0,
             "ticks": ""
            },
            "type": "choropleth"
           }
          ],
          "contour": [
           {
            "colorbar": {
             "outlinewidth": 0,
             "ticks": ""
            },
            "colorscale": [
             [
              0,
              "#0d0887"
             ],
             [
              0.1111111111111111,
              "#46039f"
             ],
             [
              0.2222222222222222,
              "#7201a8"
             ],
             [
              0.3333333333333333,
              "#9c179e"
             ],
             [
              0.4444444444444444,
              "#bd3786"
             ],
             [
              0.5555555555555556,
              "#d8576b"
             ],
             [
              0.6666666666666666,
              "#ed7953"
             ],
             [
              0.7777777777777778,
              "#fb9f3a"
             ],
             [
              0.8888888888888888,
              "#fdca26"
             ],
             [
              1,
              "#f0f921"
             ]
            ],
            "type": "contour"
           }
          ],
          "contourcarpet": [
           {
            "colorbar": {
             "outlinewidth": 0,
             "ticks": ""
            },
            "type": "contourcarpet"
           }
          ],
          "heatmap": [
           {
            "colorbar": {
             "outlinewidth": 0,
             "ticks": ""
            },
            "colorscale": [
             [
              0,
              "#0d0887"
             ],
             [
              0.1111111111111111,
              "#46039f"
             ],
             [
              0.2222222222222222,
              "#7201a8"
             ],
             [
              0.3333333333333333,
              "#9c179e"
             ],
             [
              0.4444444444444444,
              "#bd3786"
             ],
             [
              0.5555555555555556,
              "#d8576b"
             ],
             [
              0.6666666666666666,
              "#ed7953"
             ],
             [
              0.7777777777777778,
              "#fb9f3a"
             ],
             [
              0.8888888888888888,
              "#fdca26"
             ],
             [
              1,
              "#f0f921"
             ]
            ],
            "type": "heatmap"
           }
          ],
          "heatmapgl": [
           {
            "colorbar": {
             "outlinewidth": 0,
             "ticks": ""
            },
            "colorscale": [
             [
              0,
              "#0d0887"
             ],
             [
              0.1111111111111111,
              "#46039f"
             ],
             [
              0.2222222222222222,
              "#7201a8"
             ],
             [
              0.3333333333333333,
              "#9c179e"
             ],
             [
              0.4444444444444444,
              "#bd3786"
             ],
             [
              0.5555555555555556,
              "#d8576b"
             ],
             [
              0.6666666666666666,
              "#ed7953"
             ],
             [
              0.7777777777777778,
              "#fb9f3a"
             ],
             [
              0.8888888888888888,
              "#fdca26"
             ],
             [
              1,
              "#f0f921"
             ]
            ],
            "type": "heatmapgl"
           }
          ],
          "histogram": [
           {
            "marker": {
             "pattern": {
              "fillmode": "overlay",
              "size": 10,
              "solidity": 0.2
             }
            },
            "type": "histogram"
           }
          ],
          "histogram2d": [
           {
            "colorbar": {
             "outlinewidth": 0,
             "ticks": ""
            },
            "colorscale": [
             [
              0,
              "#0d0887"
             ],
             [
              0.1111111111111111,
              "#46039f"
             ],
             [
              0.2222222222222222,
              "#7201a8"
             ],
             [
              0.3333333333333333,
              "#9c179e"
             ],
             [
              0.4444444444444444,
              "#bd3786"
             ],
             [
              0.5555555555555556,
              "#d8576b"
             ],
             [
              0.6666666666666666,
              "#ed7953"
             ],
             [
              0.7777777777777778,
              "#fb9f3a"
             ],
             [
              0.8888888888888888,
              "#fdca26"
             ],
             [
              1,
              "#f0f921"
             ]
            ],
            "type": "histogram2d"
           }
          ],
          "histogram2dcontour": [
           {
            "colorbar": {
             "outlinewidth": 0,
             "ticks": ""
            },
            "colorscale": [
             [
              0,
              "#0d0887"
             ],
             [
              0.1111111111111111,
              "#46039f"
             ],
             [
              0.2222222222222222,
              "#7201a8"
             ],
             [
              0.3333333333333333,
              "#9c179e"
             ],
             [
              0.4444444444444444,
              "#bd3786"
             ],
             [
              0.5555555555555556,
              "#d8576b"
             ],
             [
              0.6666666666666666,
              "#ed7953"
             ],
             [
              0.7777777777777778,
              "#fb9f3a"
             ],
             [
              0.8888888888888888,
              "#fdca26"
             ],
             [
              1,
              "#f0f921"
             ]
            ],
            "type": "histogram2dcontour"
           }
          ],
          "mesh3d": [
           {
            "colorbar": {
             "outlinewidth": 0,
             "ticks": ""
            },
            "type": "mesh3d"
           }
          ],
          "parcoords": [
           {
            "line": {
             "colorbar": {
              "outlinewidth": 0,
              "ticks": ""
             }
            },
            "type": "parcoords"
           }
          ],
          "pie": [
           {
            "automargin": true,
            "type": "pie"
           }
          ],
          "scatter": [
           {
            "marker": {
             "colorbar": {
              "outlinewidth": 0,
              "ticks": ""
             }
            },
            "type": "scatter"
           }
          ],
          "scatter3d": [
           {
            "line": {
             "colorbar": {
              "outlinewidth": 0,
              "ticks": ""
             }
            },
            "marker": {
             "colorbar": {
              "outlinewidth": 0,
              "ticks": ""
             }
            },
            "type": "scatter3d"
           }
          ],
          "scattercarpet": [
           {
            "marker": {
             "colorbar": {
              "outlinewidth": 0,
              "ticks": ""
             }
            },
            "type": "scattercarpet"
           }
          ],
          "scattergeo": [
           {
            "marker": {
             "colorbar": {
              "outlinewidth": 0,
              "ticks": ""
             }
            },
            "type": "scattergeo"
           }
          ],
          "scattergl": [
           {
            "marker": {
             "colorbar": {
              "outlinewidth": 0,
              "ticks": ""
             }
            },
            "type": "scattergl"
           }
          ],
          "scattermapbox": [
           {
            "marker": {
             "colorbar": {
              "outlinewidth": 0,
              "ticks": ""
             }
            },
            "type": "scattermapbox"
           }
          ],
          "scatterpolar": [
           {
            "marker": {
             "colorbar": {
              "outlinewidth": 0,
              "ticks": ""
             }
            },
            "type": "scatterpolar"
           }
          ],
          "scatterpolargl": [
           {
            "marker": {
             "colorbar": {
              "outlinewidth": 0,
              "ticks": ""
             }
            },
            "type": "scatterpolargl"
           }
          ],
          "scatterternary": [
           {
            "marker": {
             "colorbar": {
              "outlinewidth": 0,
              "ticks": ""
             }
            },
            "type": "scatterternary"
           }
          ],
          "surface": [
           {
            "colorbar": {
             "outlinewidth": 0,
             "ticks": ""
            },
            "colorscale": [
             [
              0,
              "#0d0887"
             ],
             [
              0.1111111111111111,
              "#46039f"
             ],
             [
              0.2222222222222222,
              "#7201a8"
             ],
             [
              0.3333333333333333,
              "#9c179e"
             ],
             [
              0.4444444444444444,
              "#bd3786"
             ],
             [
              0.5555555555555556,
              "#d8576b"
             ],
             [
              0.6666666666666666,
              "#ed7953"
             ],
             [
              0.7777777777777778,
              "#fb9f3a"
             ],
             [
              0.8888888888888888,
              "#fdca26"
             ],
             [
              1,
              "#f0f921"
             ]
            ],
            "type": "surface"
           }
          ],
          "table": [
           {
            "cells": {
             "fill": {
              "color": "#EBF0F8"
             },
             "line": {
              "color": "white"
             }
            },
            "header": {
             "fill": {
              "color": "#C8D4E3"
             },
             "line": {
              "color": "white"
             }
            },
            "type": "table"
           }
          ]
         },
         "layout": {
          "annotationdefaults": {
           "arrowcolor": "#2a3f5f",
           "arrowhead": 0,
           "arrowwidth": 1
          },
          "autotypenumbers": "strict",
          "coloraxis": {
           "colorbar": {
            "outlinewidth": 0,
            "ticks": ""
           }
          },
          "colorscale": {
           "diverging": [
            [
             0,
             "#8e0152"
            ],
            [
             0.1,
             "#c51b7d"
            ],
            [
             0.2,
             "#de77ae"
            ],
            [
             0.3,
             "#f1b6da"
            ],
            [
             0.4,
             "#fde0ef"
            ],
            [
             0.5,
             "#f7f7f7"
            ],
            [
             0.6,
             "#e6f5d0"
            ],
            [
             0.7,
             "#b8e186"
            ],
            [
             0.8,
             "#7fbc41"
            ],
            [
             0.9,
             "#4d9221"
            ],
            [
             1,
             "#276419"
            ]
           ],
           "sequential": [
            [
             0,
             "#0d0887"
            ],
            [
             0.1111111111111111,
             "#46039f"
            ],
            [
             0.2222222222222222,
             "#7201a8"
            ],
            [
             0.3333333333333333,
             "#9c179e"
            ],
            [
             0.4444444444444444,
             "#bd3786"
            ],
            [
             0.5555555555555556,
             "#d8576b"
            ],
            [
             0.6666666666666666,
             "#ed7953"
            ],
            [
             0.7777777777777778,
             "#fb9f3a"
            ],
            [
             0.8888888888888888,
             "#fdca26"
            ],
            [
             1,
             "#f0f921"
            ]
           ],
           "sequentialminus": [
            [
             0,
             "#0d0887"
            ],
            [
             0.1111111111111111,
             "#46039f"
            ],
            [
             0.2222222222222222,
             "#7201a8"
            ],
            [
             0.3333333333333333,
             "#9c179e"
            ],
            [
             0.4444444444444444,
             "#bd3786"
            ],
            [
             0.5555555555555556,
             "#d8576b"
            ],
            [
             0.6666666666666666,
             "#ed7953"
            ],
            [
             0.7777777777777778,
             "#fb9f3a"
            ],
            [
             0.8888888888888888,
             "#fdca26"
            ],
            [
             1,
             "#f0f921"
            ]
           ]
          },
          "colorway": [
           "#636efa",
           "#EF553B",
           "#00cc96",
           "#ab63fa",
           "#FFA15A",
           "#19d3f3",
           "#FF6692",
           "#B6E880",
           "#FF97FF",
           "#FECB52"
          ],
          "font": {
           "color": "#2a3f5f"
          },
          "geo": {
           "bgcolor": "white",
           "lakecolor": "white",
           "landcolor": "#E5ECF6",
           "showlakes": true,
           "showland": true,
           "subunitcolor": "white"
          },
          "hoverlabel": {
           "align": "left"
          },
          "hovermode": "closest",
          "mapbox": {
           "style": "light"
          },
          "paper_bgcolor": "white",
          "plot_bgcolor": "#E5ECF6",
          "polar": {
           "angularaxis": {
            "gridcolor": "white",
            "linecolor": "white",
            "ticks": ""
           },
           "bgcolor": "#E5ECF6",
           "radialaxis": {
            "gridcolor": "white",
            "linecolor": "white",
            "ticks": ""
           }
          },
          "scene": {
           "xaxis": {
            "backgroundcolor": "#E5ECF6",
            "gridcolor": "white",
            "gridwidth": 2,
            "linecolor": "white",
            "showbackground": true,
            "ticks": "",
            "zerolinecolor": "white"
           },
           "yaxis": {
            "backgroundcolor": "#E5ECF6",
            "gridcolor": "white",
            "gridwidth": 2,
            "linecolor": "white",
            "showbackground": true,
            "ticks": "",
            "zerolinecolor": "white"
           },
           "zaxis": {
            "backgroundcolor": "#E5ECF6",
            "gridcolor": "white",
            "gridwidth": 2,
            "linecolor": "white",
            "showbackground": true,
            "ticks": "",
            "zerolinecolor": "white"
           }
          },
          "shapedefaults": {
           "line": {
            "color": "#2a3f5f"
           }
          },
          "ternary": {
           "aaxis": {
            "gridcolor": "white",
            "linecolor": "white",
            "ticks": ""
           },
           "baxis": {
            "gridcolor": "white",
            "linecolor": "white",
            "ticks": ""
           },
           "bgcolor": "#E5ECF6",
           "caxis": {
            "gridcolor": "white",
            "linecolor": "white",
            "ticks": ""
           }
          },
          "title": {
           "x": 0.05
          },
          "xaxis": {
           "automargin": true,
           "gridcolor": "white",
           "linecolor": "white",
           "ticks": "",
           "title": {
            "standoff": 15
           },
           "zerolinecolor": "white",
           "zerolinewidth": 2
          },
          "yaxis": {
           "automargin": true,
           "gridcolor": "white",
           "linecolor": "white",
           "ticks": "",
           "title": {
            "standoff": 15
           },
           "zerolinecolor": "white",
           "zerolinewidth": 2
          }
         }
        },
        "title": {
         "text": "Distribution of ratings"
        },
        "xaxis": {
         "anchor": "y",
         "domain": [
          0,
          1
         ],
         "title": {
          "text": "rating"
         }
        },
        "xaxis2": {
         "anchor": "y2",
         "domain": [
          0,
          1
         ],
         "matches": "x",
         "showgrid": true,
         "showticklabels": false
        },
        "yaxis": {
         "anchor": "x",
         "domain": [
          0,
          0.8316
         ],
         "title": {
          "text": "count"
         }
        },
        "yaxis2": {
         "anchor": "x2",
         "domain": [
          0.8416,
          1
         ],
         "matches": "y2",
         "showgrid": false,
         "showline": false,
         "showticklabels": false,
         "ticks": ""
        }
       }
      },
      "text/html": [
       "<div>                            <div id=\"1e75e05e-c794-4b0a-bb3c-66fbeaad1bc7\" class=\"plotly-graph-div\" style=\"height:525px; width:100%;\"></div>            <script type=\"text/javascript\">                require([\"plotly\"], function(Plotly) {                    window.PLOTLYENV=window.PLOTLYENV || {};                                    if (document.getElementById(\"1e75e05e-c794-4b0a-bb3c-66fbeaad1bc7\")) {                    Plotly.newPlot(                        \"1e75e05e-c794-4b0a-bb3c-66fbeaad1bc7\",                        [{\"alignmentgroup\":\"True\",\"bingroup\":\"x\",\"hovertemplate\":\"rating=%{x}<br>count=%{y}<extra></extra>\",\"legendgroup\":\"\",\"marker\":{\"color\":\"#636efa\",\"pattern\":{\"shape\":\"\"}},\"name\":\"\",\"nbinsx\":10,\"offsetgroup\":\"\",\"orientation\":\"v\",\"showlegend\":false,\"x\":[4.32,4.5,4.27,4.27,3.62,4.38,3.97,4.26,4.6,4.17,4.3,4.22,4.37,3.87,4.1,3.88,4.14,4.13,4.06,4.21,4.48,3.98,4.19,4.17,3.93,3.89,4.24,3.69,3.75,4.31,4.09,4.27,4.46,4.3,4.28,4.18,3.88,4.0,3.98,3.99,4.1,3.81,4.26,4.4,4.14,3.99,4.11,3.82,3.79,3.83,4.22,4.29,3.86,4.32,3.88,4.1,3.83,4.12,4.13,4.08,4.11,4.62,3.98,4.34,4.32,4.3,4.07,4.03,4.32,3.79,4.07,4.37,4.24,4.15,4.23,4.58,4.24,4.28,4.34,4.0,3.97,4.12,4.11,4.05,4.0,4.07,3.88,3.69,3.79,4.12,4.33,4.37,4.01,4.23,4.56,3.52,4.57,4.19,4.27,4.0,4.52,4.25,4.29,4.02,4.17,3.92,3.92,3.84,4.14,3.89,4.3,3.62,4.28,4.13,4.11,4.13,4.09,4.37,4.27,3.42,4.51,4.22,4.18,4.24,4.28,3.95,3.94,4.03,3.98,4.17,4.1,4.49,4.37,4.05,4.97,4.34,4.04,4.01,3.93,4.0,4.19,4.23,4.24,4.35,3.96,4.18,4.36,3.59,3.98,4.08,4.55,4.4,4.25,4.29,4.35,3.95,4.3,3.82,3.99,4.22,4.04,4.48,3.89,4.02,4.12,3.95,4.02,4.17,3.85,3.69,3.87,4.34,4.24,4.17,3.84,4.19,4.53,4.07,4.19,3.52,4.09],\"xaxis\":\"x\",\"yaxis\":\"y\",\"type\":\"histogram\"},{\"alignmentgroup\":\"True\",\"hovertemplate\":\"rating=%{x}<extra></extra>\",\"legendgroup\":\"\",\"marker\":{\"color\":\"#636efa\"},\"name\":\"\",\"notched\":true,\"offsetgroup\":\"\",\"showlegend\":false,\"x\":[4.32,4.5,4.27,4.27,3.62,4.38,3.97,4.26,4.6,4.17,4.3,4.22,4.37,3.87,4.1,3.88,4.14,4.13,4.06,4.21,4.48,3.98,4.19,4.17,3.93,3.89,4.24,3.69,3.75,4.31,4.09,4.27,4.46,4.3,4.28,4.18,3.88,4.0,3.98,3.99,4.1,3.81,4.26,4.4,4.14,3.99,4.11,3.82,3.79,3.83,4.22,4.29,3.86,4.32,3.88,4.1,3.83,4.12,4.13,4.08,4.11,4.62,3.98,4.34,4.32,4.3,4.07,4.03,4.32,3.79,4.07,4.37,4.24,4.15,4.23,4.58,4.24,4.28,4.34,4.0,3.97,4.12,4.11,4.05,4.0,4.07,3.88,3.69,3.79,4.12,4.33,4.37,4.01,4.23,4.56,3.52,4.57,4.19,4.27,4.0,4.52,4.25,4.29,4.02,4.17,3.92,3.92,3.84,4.14,3.89,4.3,3.62,4.28,4.13,4.11,4.13,4.09,4.37,4.27,3.42,4.51,4.22,4.18,4.24,4.28,3.95,3.94,4.03,3.98,4.17,4.1,4.49,4.37,4.05,4.97,4.34,4.04,4.01,3.93,4.0,4.19,4.23,4.24,4.35,3.96,4.18,4.36,3.59,3.98,4.08,4.55,4.4,4.25,4.29,4.35,3.95,4.3,3.82,3.99,4.22,4.04,4.48,3.89,4.02,4.12,3.95,4.02,4.17,3.85,3.69,3.87,4.34,4.24,4.17,3.84,4.19,4.53,4.07,4.19,3.52,4.09],\"xaxis\":\"x2\",\"yaxis\":\"y2\",\"type\":\"box\"}],                        {\"template\":{\"data\":{\"bar\":[{\"error_x\":{\"color\":\"#2a3f5f\"},\"error_y\":{\"color\":\"#2a3f5f\"},\"marker\":{\"line\":{\"color\":\"#E5ECF6\",\"width\":0.5},\"pattern\":{\"fillmode\":\"overlay\",\"size\":10,\"solidity\":0.2}},\"type\":\"bar\"}],\"barpolar\":[{\"marker\":{\"line\":{\"color\":\"#E5ECF6\",\"width\":0.5},\"pattern\":{\"fillmode\":\"overlay\",\"size\":10,\"solidity\":0.2}},\"type\":\"barpolar\"}],\"carpet\":[{\"aaxis\":{\"endlinecolor\":\"#2a3f5f\",\"gridcolor\":\"white\",\"linecolor\":\"white\",\"minorgridcolor\":\"white\",\"startlinecolor\":\"#2a3f5f\"},\"baxis\":{\"endlinecolor\":\"#2a3f5f\",\"gridcolor\":\"white\",\"linecolor\":\"white\",\"minorgridcolor\":\"white\",\"startlinecolor\":\"#2a3f5f\"},\"type\":\"carpet\"}],\"choropleth\":[{\"colorbar\":{\"outlinewidth\":0,\"ticks\":\"\"},\"type\":\"choropleth\"}],\"contour\":[{\"colorbar\":{\"outlinewidth\":0,\"ticks\":\"\"},\"colorscale\":[[0.0,\"#0d0887\"],[0.1111111111111111,\"#46039f\"],[0.2222222222222222,\"#7201a8\"],[0.3333333333333333,\"#9c179e\"],[0.4444444444444444,\"#bd3786\"],[0.5555555555555556,\"#d8576b\"],[0.6666666666666666,\"#ed7953\"],[0.7777777777777778,\"#fb9f3a\"],[0.8888888888888888,\"#fdca26\"],[1.0,\"#f0f921\"]],\"type\":\"contour\"}],\"contourcarpet\":[{\"colorbar\":{\"outlinewidth\":0,\"ticks\":\"\"},\"type\":\"contourcarpet\"}],\"heatmap\":[{\"colorbar\":{\"outlinewidth\":0,\"ticks\":\"\"},\"colorscale\":[[0.0,\"#0d0887\"],[0.1111111111111111,\"#46039f\"],[0.2222222222222222,\"#7201a8\"],[0.3333333333333333,\"#9c179e\"],[0.4444444444444444,\"#bd3786\"],[0.5555555555555556,\"#d8576b\"],[0.6666666666666666,\"#ed7953\"],[0.7777777777777778,\"#fb9f3a\"],[0.8888888888888888,\"#fdca26\"],[1.0,\"#f0f921\"]],\"type\":\"heatmap\"}],\"heatmapgl\":[{\"colorbar\":{\"outlinewidth\":0,\"ticks\":\"\"},\"colorscale\":[[0.0,\"#0d0887\"],[0.1111111111111111,\"#46039f\"],[0.2222222222222222,\"#7201a8\"],[0.3333333333333333,\"#9c179e\"],[0.4444444444444444,\"#bd3786\"],[0.5555555555555556,\"#d8576b\"],[0.6666666666666666,\"#ed7953\"],[0.7777777777777778,\"#fb9f3a\"],[0.8888888888888888,\"#fdca26\"],[1.0,\"#f0f921\"]],\"type\":\"heatmapgl\"}],\"histogram\":[{\"marker\":{\"pattern\":{\"fillmode\":\"overlay\",\"size\":10,\"solidity\":0.2}},\"type\":\"histogram\"}],\"histogram2d\":[{\"colorbar\":{\"outlinewidth\":0,\"ticks\":\"\"},\"colorscale\":[[0.0,\"#0d0887\"],[0.1111111111111111,\"#46039f\"],[0.2222222222222222,\"#7201a8\"],[0.3333333333333333,\"#9c179e\"],[0.4444444444444444,\"#bd3786\"],[0.5555555555555556,\"#d8576b\"],[0.6666666666666666,\"#ed7953\"],[0.7777777777777778,\"#fb9f3a\"],[0.8888888888888888,\"#fdca26\"],[1.0,\"#f0f921\"]],\"type\":\"histogram2d\"}],\"histogram2dcontour\":[{\"colorbar\":{\"outlinewidth\":0,\"ticks\":\"\"},\"colorscale\":[[0.0,\"#0d0887\"],[0.1111111111111111,\"#46039f\"],[0.2222222222222222,\"#7201a8\"],[0.3333333333333333,\"#9c179e\"],[0.4444444444444444,\"#bd3786\"],[0.5555555555555556,\"#d8576b\"],[0.6666666666666666,\"#ed7953\"],[0.7777777777777778,\"#fb9f3a\"],[0.8888888888888888,\"#fdca26\"],[1.0,\"#f0f921\"]],\"type\":\"histogram2dcontour\"}],\"mesh3d\":[{\"colorbar\":{\"outlinewidth\":0,\"ticks\":\"\"},\"type\":\"mesh3d\"}],\"parcoords\":[{\"line\":{\"colorbar\":{\"outlinewidth\":0,\"ticks\":\"\"}},\"type\":\"parcoords\"}],\"pie\":[{\"automargin\":true,\"type\":\"pie\"}],\"scatter\":[{\"marker\":{\"colorbar\":{\"outlinewidth\":0,\"ticks\":\"\"}},\"type\":\"scatter\"}],\"scatter3d\":[{\"line\":{\"colorbar\":{\"outlinewidth\":0,\"ticks\":\"\"}},\"marker\":{\"colorbar\":{\"outlinewidth\":0,\"ticks\":\"\"}},\"type\":\"scatter3d\"}],\"scattercarpet\":[{\"marker\":{\"colorbar\":{\"outlinewidth\":0,\"ticks\":\"\"}},\"type\":\"scattercarpet\"}],\"scattergeo\":[{\"marker\":{\"colorbar\":{\"outlinewidth\":0,\"ticks\":\"\"}},\"type\":\"scattergeo\"}],\"scattergl\":[{\"marker\":{\"colorbar\":{\"outlinewidth\":0,\"ticks\":\"\"}},\"type\":\"scattergl\"}],\"scattermapbox\":[{\"marker\":{\"colorbar\":{\"outlinewidth\":0,\"ticks\":\"\"}},\"type\":\"scattermapbox\"}],\"scatterpolar\":[{\"marker\":{\"colorbar\":{\"outlinewidth\":0,\"ticks\":\"\"}},\"type\":\"scatterpolar\"}],\"scatterpolargl\":[{\"marker\":{\"colorbar\":{\"outlinewidth\":0,\"ticks\":\"\"}},\"type\":\"scatterpolargl\"}],\"scatterternary\":[{\"marker\":{\"colorbar\":{\"outlinewidth\":0,\"ticks\":\"\"}},\"type\":\"scatterternary\"}],\"surface\":[{\"colorbar\":{\"outlinewidth\":0,\"ticks\":\"\"},\"colorscale\":[[0.0,\"#0d0887\"],[0.1111111111111111,\"#46039f\"],[0.2222222222222222,\"#7201a8\"],[0.3333333333333333,\"#9c179e\"],[0.4444444444444444,\"#bd3786\"],[0.5555555555555556,\"#d8576b\"],[0.6666666666666666,\"#ed7953\"],[0.7777777777777778,\"#fb9f3a\"],[0.8888888888888888,\"#fdca26\"],[1.0,\"#f0f921\"]],\"type\":\"surface\"}],\"table\":[{\"cells\":{\"fill\":{\"color\":\"#EBF0F8\"},\"line\":{\"color\":\"white\"}},\"header\":{\"fill\":{\"color\":\"#C8D4E3\"},\"line\":{\"color\":\"white\"}},\"type\":\"table\"}]},\"layout\":{\"annotationdefaults\":{\"arrowcolor\":\"#2a3f5f\",\"arrowhead\":0,\"arrowwidth\":1},\"autotypenumbers\":\"strict\",\"coloraxis\":{\"colorbar\":{\"outlinewidth\":0,\"ticks\":\"\"}},\"colorscale\":{\"diverging\":[[0,\"#8e0152\"],[0.1,\"#c51b7d\"],[0.2,\"#de77ae\"],[0.3,\"#f1b6da\"],[0.4,\"#fde0ef\"],[0.5,\"#f7f7f7\"],[0.6,\"#e6f5d0\"],[0.7,\"#b8e186\"],[0.8,\"#7fbc41\"],[0.9,\"#4d9221\"],[1,\"#276419\"]],\"sequential\":[[0.0,\"#0d0887\"],[0.1111111111111111,\"#46039f\"],[0.2222222222222222,\"#7201a8\"],[0.3333333333333333,\"#9c179e\"],[0.4444444444444444,\"#bd3786\"],[0.5555555555555556,\"#d8576b\"],[0.6666666666666666,\"#ed7953\"],[0.7777777777777778,\"#fb9f3a\"],[0.8888888888888888,\"#fdca26\"],[1.0,\"#f0f921\"]],\"sequentialminus\":[[0.0,\"#0d0887\"],[0.1111111111111111,\"#46039f\"],[0.2222222222222222,\"#7201a8\"],[0.3333333333333333,\"#9c179e\"],[0.4444444444444444,\"#bd3786\"],[0.5555555555555556,\"#d8576b\"],[0.6666666666666666,\"#ed7953\"],[0.7777777777777778,\"#fb9f3a\"],[0.8888888888888888,\"#fdca26\"],[1.0,\"#f0f921\"]]},\"colorway\":[\"#636efa\",\"#EF553B\",\"#00cc96\",\"#ab63fa\",\"#FFA15A\",\"#19d3f3\",\"#FF6692\",\"#B6E880\",\"#FF97FF\",\"#FECB52\"],\"font\":{\"color\":\"#2a3f5f\"},\"geo\":{\"bgcolor\":\"white\",\"lakecolor\":\"white\",\"landcolor\":\"#E5ECF6\",\"showlakes\":true,\"showland\":true,\"subunitcolor\":\"white\"},\"hoverlabel\":{\"align\":\"left\"},\"hovermode\":\"closest\",\"mapbox\":{\"style\":\"light\"},\"paper_bgcolor\":\"white\",\"plot_bgcolor\":\"#E5ECF6\",\"polar\":{\"angularaxis\":{\"gridcolor\":\"white\",\"linecolor\":\"white\",\"ticks\":\"\"},\"bgcolor\":\"#E5ECF6\",\"radialaxis\":{\"gridcolor\":\"white\",\"linecolor\":\"white\",\"ticks\":\"\"}},\"scene\":{\"xaxis\":{\"backgroundcolor\":\"#E5ECF6\",\"gridcolor\":\"white\",\"gridwidth\":2,\"linecolor\":\"white\",\"showbackground\":true,\"ticks\":\"\",\"zerolinecolor\":\"white\"},\"yaxis\":{\"backgroundcolor\":\"#E5ECF6\",\"gridcolor\":\"white\",\"gridwidth\":2,\"linecolor\":\"white\",\"showbackground\":true,\"ticks\":\"\",\"zerolinecolor\":\"white\"},\"zaxis\":{\"backgroundcolor\":\"#E5ECF6\",\"gridcolor\":\"white\",\"gridwidth\":2,\"linecolor\":\"white\",\"showbackground\":true,\"ticks\":\"\",\"zerolinecolor\":\"white\"}},\"shapedefaults\":{\"line\":{\"color\":\"#2a3f5f\"}},\"ternary\":{\"aaxis\":{\"gridcolor\":\"white\",\"linecolor\":\"white\",\"ticks\":\"\"},\"baxis\":{\"gridcolor\":\"white\",\"linecolor\":\"white\",\"ticks\":\"\"},\"bgcolor\":\"#E5ECF6\",\"caxis\":{\"gridcolor\":\"white\",\"linecolor\":\"white\",\"ticks\":\"\"}},\"title\":{\"x\":0.05},\"xaxis\":{\"automargin\":true,\"gridcolor\":\"white\",\"linecolor\":\"white\",\"ticks\":\"\",\"title\":{\"standoff\":15},\"zerolinecolor\":\"white\",\"zerolinewidth\":2},\"yaxis\":{\"automargin\":true,\"gridcolor\":\"white\",\"linecolor\":\"white\",\"ticks\":\"\",\"title\":{\"standoff\":15},\"zerolinecolor\":\"white\",\"zerolinewidth\":2}}},\"xaxis\":{\"anchor\":\"y\",\"domain\":[0.0,1.0],\"title\":{\"text\":\"rating\"}},\"yaxis\":{\"anchor\":\"x\",\"domain\":[0.0,0.8316],\"title\":{\"text\":\"count\"}},\"xaxis2\":{\"anchor\":\"y2\",\"domain\":[0.0,1.0],\"matches\":\"x\",\"showticklabels\":false,\"showgrid\":true},\"yaxis2\":{\"anchor\":\"x2\",\"domain\":[0.8416,1.0],\"matches\":\"y2\",\"showticklabels\":false,\"showline\":false,\"ticks\":\"\",\"showgrid\":false},\"legend\":{\"tracegroupgap\":0},\"title\":{\"text\":\"Distribution of ratings\"},\"barmode\":\"relative\",\"bargap\":0.1},                        {\"responsive\": true}                    ).then(function(){\n",
       "                            \n",
       "var gd = document.getElementById('1e75e05e-c794-4b0a-bb3c-66fbeaad1bc7');\n",
       "var x = new MutationObserver(function (mutations, observer) {{\n",
       "        var display = window.getComputedStyle(gd).display;\n",
       "        if (!display || display === 'none') {{\n",
       "            console.log([gd, 'removed!']);\n",
       "            Plotly.purge(gd);\n",
       "            observer.disconnect();\n",
       "        }}\n",
       "}});\n",
       "\n",
       "// Listen for the removal of the full notebook cells\n",
       "var notebookContainer = gd.closest('#notebook-container');\n",
       "if (notebookContainer) {{\n",
       "    x.observe(notebookContainer, {childList: true});\n",
       "}}\n",
       "\n",
       "// Listen for the clearing of the current output cell\n",
       "var outputEl = gd.closest('.output');\n",
       "if (outputEl) {{\n",
       "    x.observe(outputEl, {childList: true});\n",
       "}}\n",
       "\n",
       "                        })                };                });            </script>        </div>"
      ]
     },
     "metadata": {},
     "output_type": "display_data"
    }
   ],
   "source": [
    "fig = px.histogram(clean_df,\n",
    "                  x = 'rating',\n",
    "                  marginal = 'box',\n",
    "                   nbins = 10,\n",
    "                title = 'Distribution of ratings'\n",
    "                   \n",
    "                  )\n",
    "fig.update_layout(bargap= 0.1)\n",
    "fig.show()"
   ]
  },
  {
   "cell_type": "code",
   "execution_count": 114,
   "id": "b2f4149e",
   "metadata": {},
   "outputs": [
    {
     "data": {
      "application/vnd.plotly.v1+json": {
       "config": {
        "plotlyServerURL": "https://plot.ly"
       },
       "data": [
        {
         "alignmentgroup": "True",
         "bingroup": "x",
         "hovertemplate": "ratingCount=%{x}<br>count=%{y}<extra></extra>",
         "legendgroup": "",
         "marker": {
          "color": "red",
          "pattern": {
           "shape": ""
          }
         },
         "name": "",
         "nbinsx": 20,
         "offsetgroup": "",
         "orientation": "v",
         "showlegend": false,
         "type": "histogram",
         "x": [
          7201936,
          2859822,
          5135736,
          3490948,
          5603404,
          2114150,
          3171435,
          576933,
          120498,
          4184694,
          1140016,
          1606636,
          1000081,
          1520295,
          1154862,
          2112973,
          1812501,
          1837625,
          502501,
          1456767,
          8251148,
          1958597,
          732023,
          3345046,
          4320228,
          2456714,
          724907,
          2519449,
          2272444,
          1660695,
          1794520,
          832505,
          2401323,
          1234912,
          2359578,
          1591566,
          2172959,
          1061449,
          1667284,
          1607544,
          836174,
          3045306,
          834980,
          1295240,
          1008247,
          1112684,
          1087706,
          1202686,
          943092,
          2162792,
          903633,
          690015,
          867052,
          2707841,
          728120,
          1482644,
          1312882,
          1693166,
          2051999,
          1224799,
          1891393,
          3172446,
          771283,
          680526,
          696382,
          268430,
          454860,
          693851,
          772024,
          713852,
          738866,
          2540519,
          920972,
          2861611,
          529200,
          3327329,
          579118,
          417135,
          272667,
          650415,
          785085,
          581624,
          600556,
          656065,
          1393554,
          691491,
          235013,
          370399,
          951998,
          1470488,
          298950,
          232872,
          524268,
          299326,
          2978954,
          508313,
          2770712,
          553049,
          1019510,
          827128,
          812813,
          1266791,
          280415,
          608722,
          546066,
          832714,
          1573742,
          770804,
          747316,
          1319609,
          445255,
          374493,
          536378,
          870355,
          386118,
          327917,
          369993,
          371096,
          812109,
          769901,
          790168,
          2396663,
          533857,
          921973,
          3283456,
          631126,
          642441,
          383759,
          1069366,
          483704,
          830621,
          165413,
          515092,
          134224,
          1015,
          147518,
          311249,
          384723,
          451530,
          1311628,
          736180,
          332176,
          620411,
          370108,
          295215,
          329133,
          304979,
          1597398,
          408732,
          293877,
          395302,
          864125,
          334183,
          336792,
          817044,
          481767,
          297348,
          256088,
          234421,
          262430,
          1242955,
          201089,
          377139,
          492136,
          199595,
          631056,
          385472,
          267233,
          224190,
          284798,
          348957,
          365523,
          861423,
          182392,
          437904,
          470146,
          707204,
          245664,
          786775,
          203855,
          214051
         ],
         "xaxis": "x",
         "yaxis": "y"
        },
        {
         "alignmentgroup": "True",
         "hovertemplate": "ratingCount=%{x}<extra></extra>",
         "legendgroup": "",
         "marker": {
          "color": "red"
         },
         "name": "",
         "notched": true,
         "offsetgroup": "",
         "showlegend": false,
         "type": "box",
         "x": [
          7201936,
          2859822,
          5135736,
          3490948,
          5603404,
          2114150,
          3171435,
          576933,
          120498,
          4184694,
          1140016,
          1606636,
          1000081,
          1520295,
          1154862,
          2112973,
          1812501,
          1837625,
          502501,
          1456767,
          8251148,
          1958597,
          732023,
          3345046,
          4320228,
          2456714,
          724907,
          2519449,
          2272444,
          1660695,
          1794520,
          832505,
          2401323,
          1234912,
          2359578,
          1591566,
          2172959,
          1061449,
          1667284,
          1607544,
          836174,
          3045306,
          834980,
          1295240,
          1008247,
          1112684,
          1087706,
          1202686,
          943092,
          2162792,
          903633,
          690015,
          867052,
          2707841,
          728120,
          1482644,
          1312882,
          1693166,
          2051999,
          1224799,
          1891393,
          3172446,
          771283,
          680526,
          696382,
          268430,
          454860,
          693851,
          772024,
          713852,
          738866,
          2540519,
          920972,
          2861611,
          529200,
          3327329,
          579118,
          417135,
          272667,
          650415,
          785085,
          581624,
          600556,
          656065,
          1393554,
          691491,
          235013,
          370399,
          951998,
          1470488,
          298950,
          232872,
          524268,
          299326,
          2978954,
          508313,
          2770712,
          553049,
          1019510,
          827128,
          812813,
          1266791,
          280415,
          608722,
          546066,
          832714,
          1573742,
          770804,
          747316,
          1319609,
          445255,
          374493,
          536378,
          870355,
          386118,
          327917,
          369993,
          371096,
          812109,
          769901,
          790168,
          2396663,
          533857,
          921973,
          3283456,
          631126,
          642441,
          383759,
          1069366,
          483704,
          830621,
          165413,
          515092,
          134224,
          1015,
          147518,
          311249,
          384723,
          451530,
          1311628,
          736180,
          332176,
          620411,
          370108,
          295215,
          329133,
          304979,
          1597398,
          408732,
          293877,
          395302,
          864125,
          334183,
          336792,
          817044,
          481767,
          297348,
          256088,
          234421,
          262430,
          1242955,
          201089,
          377139,
          492136,
          199595,
          631056,
          385472,
          267233,
          224190,
          284798,
          348957,
          365523,
          861423,
          182392,
          437904,
          470146,
          707204,
          245664,
          786775,
          203855,
          214051
         ],
         "xaxis": "x2",
         "yaxis": "y2"
        }
       ],
       "layout": {
        "bargap": 0.1,
        "barmode": "relative",
        "legend": {
         "tracegroupgap": 0
        },
        "template": {
         "data": {
          "bar": [
           {
            "error_x": {
             "color": "#2a3f5f"
            },
            "error_y": {
             "color": "#2a3f5f"
            },
            "marker": {
             "line": {
              "color": "#E5ECF6",
              "width": 0.5
             },
             "pattern": {
              "fillmode": "overlay",
              "size": 10,
              "solidity": 0.2
             }
            },
            "type": "bar"
           }
          ],
          "barpolar": [
           {
            "marker": {
             "line": {
              "color": "#E5ECF6",
              "width": 0.5
             },
             "pattern": {
              "fillmode": "overlay",
              "size": 10,
              "solidity": 0.2
             }
            },
            "type": "barpolar"
           }
          ],
          "carpet": [
           {
            "aaxis": {
             "endlinecolor": "#2a3f5f",
             "gridcolor": "white",
             "linecolor": "white",
             "minorgridcolor": "white",
             "startlinecolor": "#2a3f5f"
            },
            "baxis": {
             "endlinecolor": "#2a3f5f",
             "gridcolor": "white",
             "linecolor": "white",
             "minorgridcolor": "white",
             "startlinecolor": "#2a3f5f"
            },
            "type": "carpet"
           }
          ],
          "choropleth": [
           {
            "colorbar": {
             "outlinewidth": 0,
             "ticks": ""
            },
            "type": "choropleth"
           }
          ],
          "contour": [
           {
            "colorbar": {
             "outlinewidth": 0,
             "ticks": ""
            },
            "colorscale": [
             [
              0,
              "#0d0887"
             ],
             [
              0.1111111111111111,
              "#46039f"
             ],
             [
              0.2222222222222222,
              "#7201a8"
             ],
             [
              0.3333333333333333,
              "#9c179e"
             ],
             [
              0.4444444444444444,
              "#bd3786"
             ],
             [
              0.5555555555555556,
              "#d8576b"
             ],
             [
              0.6666666666666666,
              "#ed7953"
             ],
             [
              0.7777777777777778,
              "#fb9f3a"
             ],
             [
              0.8888888888888888,
              "#fdca26"
             ],
             [
              1,
              "#f0f921"
             ]
            ],
            "type": "contour"
           }
          ],
          "contourcarpet": [
           {
            "colorbar": {
             "outlinewidth": 0,
             "ticks": ""
            },
            "type": "contourcarpet"
           }
          ],
          "heatmap": [
           {
            "colorbar": {
             "outlinewidth": 0,
             "ticks": ""
            },
            "colorscale": [
             [
              0,
              "#0d0887"
             ],
             [
              0.1111111111111111,
              "#46039f"
             ],
             [
              0.2222222222222222,
              "#7201a8"
             ],
             [
              0.3333333333333333,
              "#9c179e"
             ],
             [
              0.4444444444444444,
              "#bd3786"
             ],
             [
              0.5555555555555556,
              "#d8576b"
             ],
             [
              0.6666666666666666,
              "#ed7953"
             ],
             [
              0.7777777777777778,
              "#fb9f3a"
             ],
             [
              0.8888888888888888,
              "#fdca26"
             ],
             [
              1,
              "#f0f921"
             ]
            ],
            "type": "heatmap"
           }
          ],
          "heatmapgl": [
           {
            "colorbar": {
             "outlinewidth": 0,
             "ticks": ""
            },
            "colorscale": [
             [
              0,
              "#0d0887"
             ],
             [
              0.1111111111111111,
              "#46039f"
             ],
             [
              0.2222222222222222,
              "#7201a8"
             ],
             [
              0.3333333333333333,
              "#9c179e"
             ],
             [
              0.4444444444444444,
              "#bd3786"
             ],
             [
              0.5555555555555556,
              "#d8576b"
             ],
             [
              0.6666666666666666,
              "#ed7953"
             ],
             [
              0.7777777777777778,
              "#fb9f3a"
             ],
             [
              0.8888888888888888,
              "#fdca26"
             ],
             [
              1,
              "#f0f921"
             ]
            ],
            "type": "heatmapgl"
           }
          ],
          "histogram": [
           {
            "marker": {
             "pattern": {
              "fillmode": "overlay",
              "size": 10,
              "solidity": 0.2
             }
            },
            "type": "histogram"
           }
          ],
          "histogram2d": [
           {
            "colorbar": {
             "outlinewidth": 0,
             "ticks": ""
            },
            "colorscale": [
             [
              0,
              "#0d0887"
             ],
             [
              0.1111111111111111,
              "#46039f"
             ],
             [
              0.2222222222222222,
              "#7201a8"
             ],
             [
              0.3333333333333333,
              "#9c179e"
             ],
             [
              0.4444444444444444,
              "#bd3786"
             ],
             [
              0.5555555555555556,
              "#d8576b"
             ],
             [
              0.6666666666666666,
              "#ed7953"
             ],
             [
              0.7777777777777778,
              "#fb9f3a"
             ],
             [
              0.8888888888888888,
              "#fdca26"
             ],
             [
              1,
              "#f0f921"
             ]
            ],
            "type": "histogram2d"
           }
          ],
          "histogram2dcontour": [
           {
            "colorbar": {
             "outlinewidth": 0,
             "ticks": ""
            },
            "colorscale": [
             [
              0,
              "#0d0887"
             ],
             [
              0.1111111111111111,
              "#46039f"
             ],
             [
              0.2222222222222222,
              "#7201a8"
             ],
             [
              0.3333333333333333,
              "#9c179e"
             ],
             [
              0.4444444444444444,
              "#bd3786"
             ],
             [
              0.5555555555555556,
              "#d8576b"
             ],
             [
              0.6666666666666666,
              "#ed7953"
             ],
             [
              0.7777777777777778,
              "#fb9f3a"
             ],
             [
              0.8888888888888888,
              "#fdca26"
             ],
             [
              1,
              "#f0f921"
             ]
            ],
            "type": "histogram2dcontour"
           }
          ],
          "mesh3d": [
           {
            "colorbar": {
             "outlinewidth": 0,
             "ticks": ""
            },
            "type": "mesh3d"
           }
          ],
          "parcoords": [
           {
            "line": {
             "colorbar": {
              "outlinewidth": 0,
              "ticks": ""
             }
            },
            "type": "parcoords"
           }
          ],
          "pie": [
           {
            "automargin": true,
            "type": "pie"
           }
          ],
          "scatter": [
           {
            "marker": {
             "colorbar": {
              "outlinewidth": 0,
              "ticks": ""
             }
            },
            "type": "scatter"
           }
          ],
          "scatter3d": [
           {
            "line": {
             "colorbar": {
              "outlinewidth": 0,
              "ticks": ""
             }
            },
            "marker": {
             "colorbar": {
              "outlinewidth": 0,
              "ticks": ""
             }
            },
            "type": "scatter3d"
           }
          ],
          "scattercarpet": [
           {
            "marker": {
             "colorbar": {
              "outlinewidth": 0,
              "ticks": ""
             }
            },
            "type": "scattercarpet"
           }
          ],
          "scattergeo": [
           {
            "marker": {
             "colorbar": {
              "outlinewidth": 0,
              "ticks": ""
             }
            },
            "type": "scattergeo"
           }
          ],
          "scattergl": [
           {
            "marker": {
             "colorbar": {
              "outlinewidth": 0,
              "ticks": ""
             }
            },
            "type": "scattergl"
           }
          ],
          "scattermapbox": [
           {
            "marker": {
             "colorbar": {
              "outlinewidth": 0,
              "ticks": ""
             }
            },
            "type": "scattermapbox"
           }
          ],
          "scatterpolar": [
           {
            "marker": {
             "colorbar": {
              "outlinewidth": 0,
              "ticks": ""
             }
            },
            "type": "scatterpolar"
           }
          ],
          "scatterpolargl": [
           {
            "marker": {
             "colorbar": {
              "outlinewidth": 0,
              "ticks": ""
             }
            },
            "type": "scatterpolargl"
           }
          ],
          "scatterternary": [
           {
            "marker": {
             "colorbar": {
              "outlinewidth": 0,
              "ticks": ""
             }
            },
            "type": "scatterternary"
           }
          ],
          "surface": [
           {
            "colorbar": {
             "outlinewidth": 0,
             "ticks": ""
            },
            "colorscale": [
             [
              0,
              "#0d0887"
             ],
             [
              0.1111111111111111,
              "#46039f"
             ],
             [
              0.2222222222222222,
              "#7201a8"
             ],
             [
              0.3333333333333333,
              "#9c179e"
             ],
             [
              0.4444444444444444,
              "#bd3786"
             ],
             [
              0.5555555555555556,
              "#d8576b"
             ],
             [
              0.6666666666666666,
              "#ed7953"
             ],
             [
              0.7777777777777778,
              "#fb9f3a"
             ],
             [
              0.8888888888888888,
              "#fdca26"
             ],
             [
              1,
              "#f0f921"
             ]
            ],
            "type": "surface"
           }
          ],
          "table": [
           {
            "cells": {
             "fill": {
              "color": "#EBF0F8"
             },
             "line": {
              "color": "white"
             }
            },
            "header": {
             "fill": {
              "color": "#C8D4E3"
             },
             "line": {
              "color": "white"
             }
            },
            "type": "table"
           }
          ]
         },
         "layout": {
          "annotationdefaults": {
           "arrowcolor": "#2a3f5f",
           "arrowhead": 0,
           "arrowwidth": 1
          },
          "autotypenumbers": "strict",
          "coloraxis": {
           "colorbar": {
            "outlinewidth": 0,
            "ticks": ""
           }
          },
          "colorscale": {
           "diverging": [
            [
             0,
             "#8e0152"
            ],
            [
             0.1,
             "#c51b7d"
            ],
            [
             0.2,
             "#de77ae"
            ],
            [
             0.3,
             "#f1b6da"
            ],
            [
             0.4,
             "#fde0ef"
            ],
            [
             0.5,
             "#f7f7f7"
            ],
            [
             0.6,
             "#e6f5d0"
            ],
            [
             0.7,
             "#b8e186"
            ],
            [
             0.8,
             "#7fbc41"
            ],
            [
             0.9,
             "#4d9221"
            ],
            [
             1,
             "#276419"
            ]
           ],
           "sequential": [
            [
             0,
             "#0d0887"
            ],
            [
             0.1111111111111111,
             "#46039f"
            ],
            [
             0.2222222222222222,
             "#7201a8"
            ],
            [
             0.3333333333333333,
             "#9c179e"
            ],
            [
             0.4444444444444444,
             "#bd3786"
            ],
            [
             0.5555555555555556,
             "#d8576b"
            ],
            [
             0.6666666666666666,
             "#ed7953"
            ],
            [
             0.7777777777777778,
             "#fb9f3a"
            ],
            [
             0.8888888888888888,
             "#fdca26"
            ],
            [
             1,
             "#f0f921"
            ]
           ],
           "sequentialminus": [
            [
             0,
             "#0d0887"
            ],
            [
             0.1111111111111111,
             "#46039f"
            ],
            [
             0.2222222222222222,
             "#7201a8"
            ],
            [
             0.3333333333333333,
             "#9c179e"
            ],
            [
             0.4444444444444444,
             "#bd3786"
            ],
            [
             0.5555555555555556,
             "#d8576b"
            ],
            [
             0.6666666666666666,
             "#ed7953"
            ],
            [
             0.7777777777777778,
             "#fb9f3a"
            ],
            [
             0.8888888888888888,
             "#fdca26"
            ],
            [
             1,
             "#f0f921"
            ]
           ]
          },
          "colorway": [
           "#636efa",
           "#EF553B",
           "#00cc96",
           "#ab63fa",
           "#FFA15A",
           "#19d3f3",
           "#FF6692",
           "#B6E880",
           "#FF97FF",
           "#FECB52"
          ],
          "font": {
           "color": "#2a3f5f"
          },
          "geo": {
           "bgcolor": "white",
           "lakecolor": "white",
           "landcolor": "#E5ECF6",
           "showlakes": true,
           "showland": true,
           "subunitcolor": "white"
          },
          "hoverlabel": {
           "align": "left"
          },
          "hovermode": "closest",
          "mapbox": {
           "style": "light"
          },
          "paper_bgcolor": "white",
          "plot_bgcolor": "#E5ECF6",
          "polar": {
           "angularaxis": {
            "gridcolor": "white",
            "linecolor": "white",
            "ticks": ""
           },
           "bgcolor": "#E5ECF6",
           "radialaxis": {
            "gridcolor": "white",
            "linecolor": "white",
            "ticks": ""
           }
          },
          "scene": {
           "xaxis": {
            "backgroundcolor": "#E5ECF6",
            "gridcolor": "white",
            "gridwidth": 2,
            "linecolor": "white",
            "showbackground": true,
            "ticks": "",
            "zerolinecolor": "white"
           },
           "yaxis": {
            "backgroundcolor": "#E5ECF6",
            "gridcolor": "white",
            "gridwidth": 2,
            "linecolor": "white",
            "showbackground": true,
            "ticks": "",
            "zerolinecolor": "white"
           },
           "zaxis": {
            "backgroundcolor": "#E5ECF6",
            "gridcolor": "white",
            "gridwidth": 2,
            "linecolor": "white",
            "showbackground": true,
            "ticks": "",
            "zerolinecolor": "white"
           }
          },
          "shapedefaults": {
           "line": {
            "color": "#2a3f5f"
           }
          },
          "ternary": {
           "aaxis": {
            "gridcolor": "white",
            "linecolor": "white",
            "ticks": ""
           },
           "baxis": {
            "gridcolor": "white",
            "linecolor": "white",
            "ticks": ""
           },
           "bgcolor": "#E5ECF6",
           "caxis": {
            "gridcolor": "white",
            "linecolor": "white",
            "ticks": ""
           }
          },
          "title": {
           "x": 0.05
          },
          "xaxis": {
           "automargin": true,
           "gridcolor": "white",
           "linecolor": "white",
           "ticks": "",
           "title": {
            "standoff": 15
           },
           "zerolinecolor": "white",
           "zerolinewidth": 2
          },
          "yaxis": {
           "automargin": true,
           "gridcolor": "white",
           "linecolor": "white",
           "ticks": "",
           "title": {
            "standoff": 15
           },
           "zerolinecolor": "white",
           "zerolinewidth": 2
          }
         }
        },
        "title": {
         "text": "Distribution of rating counts"
        },
        "xaxis": {
         "anchor": "y",
         "domain": [
          0,
          1
         ],
         "title": {
          "text": "ratingCount"
         }
        },
        "xaxis2": {
         "anchor": "y2",
         "domain": [
          0,
          1
         ],
         "matches": "x",
         "showgrid": true,
         "showticklabels": false
        },
        "yaxis": {
         "anchor": "x",
         "domain": [
          0,
          0.8316
         ],
         "title": {
          "text": "count"
         }
        },
        "yaxis2": {
         "anchor": "x2",
         "domain": [
          0.8416,
          1
         ],
         "matches": "y2",
         "showgrid": false,
         "showline": false,
         "showticklabels": false,
         "ticks": ""
        }
       }
      },
      "text/html": [
       "<div>                            <div id=\"a2e4020b-c15e-40e5-a935-fc8ce08d4462\" class=\"plotly-graph-div\" style=\"height:525px; width:100%;\"></div>            <script type=\"text/javascript\">                require([\"plotly\"], function(Plotly) {                    window.PLOTLYENV=window.PLOTLYENV || {};                                    if (document.getElementById(\"a2e4020b-c15e-40e5-a935-fc8ce08d4462\")) {                    Plotly.newPlot(                        \"a2e4020b-c15e-40e5-a935-fc8ce08d4462\",                        [{\"alignmentgroup\":\"True\",\"bingroup\":\"x\",\"hovertemplate\":\"ratingCount=%{x}<br>count=%{y}<extra></extra>\",\"legendgroup\":\"\",\"marker\":{\"color\":\"red\",\"pattern\":{\"shape\":\"\"}},\"name\":\"\",\"nbinsx\":20,\"offsetgroup\":\"\",\"orientation\":\"v\",\"showlegend\":false,\"x\":[7201936,2859822,5135736,3490948,5603404,2114150,3171435,576933,120498,4184694,1140016,1606636,1000081,1520295,1154862,2112973,1812501,1837625,502501,1456767,8251148,1958597,732023,3345046,4320228,2456714,724907,2519449,2272444,1660695,1794520,832505,2401323,1234912,2359578,1591566,2172959,1061449,1667284,1607544,836174,3045306,834980,1295240,1008247,1112684,1087706,1202686,943092,2162792,903633,690015,867052,2707841,728120,1482644,1312882,1693166,2051999,1224799,1891393,3172446,771283,680526,696382,268430,454860,693851,772024,713852,738866,2540519,920972,2861611,529200,3327329,579118,417135,272667,650415,785085,581624,600556,656065,1393554,691491,235013,370399,951998,1470488,298950,232872,524268,299326,2978954,508313,2770712,553049,1019510,827128,812813,1266791,280415,608722,546066,832714,1573742,770804,747316,1319609,445255,374493,536378,870355,386118,327917,369993,371096,812109,769901,790168,2396663,533857,921973,3283456,631126,642441,383759,1069366,483704,830621,165413,515092,134224,1015,147518,311249,384723,451530,1311628,736180,332176,620411,370108,295215,329133,304979,1597398,408732,293877,395302,864125,334183,336792,817044,481767,297348,256088,234421,262430,1242955,201089,377139,492136,199595,631056,385472,267233,224190,284798,348957,365523,861423,182392,437904,470146,707204,245664,786775,203855,214051],\"xaxis\":\"x\",\"yaxis\":\"y\",\"type\":\"histogram\"},{\"alignmentgroup\":\"True\",\"hovertemplate\":\"ratingCount=%{x}<extra></extra>\",\"legendgroup\":\"\",\"marker\":{\"color\":\"red\"},\"name\":\"\",\"notched\":true,\"offsetgroup\":\"\",\"showlegend\":false,\"x\":[7201936,2859822,5135736,3490948,5603404,2114150,3171435,576933,120498,4184694,1140016,1606636,1000081,1520295,1154862,2112973,1812501,1837625,502501,1456767,8251148,1958597,732023,3345046,4320228,2456714,724907,2519449,2272444,1660695,1794520,832505,2401323,1234912,2359578,1591566,2172959,1061449,1667284,1607544,836174,3045306,834980,1295240,1008247,1112684,1087706,1202686,943092,2162792,903633,690015,867052,2707841,728120,1482644,1312882,1693166,2051999,1224799,1891393,3172446,771283,680526,696382,268430,454860,693851,772024,713852,738866,2540519,920972,2861611,529200,3327329,579118,417135,272667,650415,785085,581624,600556,656065,1393554,691491,235013,370399,951998,1470488,298950,232872,524268,299326,2978954,508313,2770712,553049,1019510,827128,812813,1266791,280415,608722,546066,832714,1573742,770804,747316,1319609,445255,374493,536378,870355,386118,327917,369993,371096,812109,769901,790168,2396663,533857,921973,3283456,631126,642441,383759,1069366,483704,830621,165413,515092,134224,1015,147518,311249,384723,451530,1311628,736180,332176,620411,370108,295215,329133,304979,1597398,408732,293877,395302,864125,334183,336792,817044,481767,297348,256088,234421,262430,1242955,201089,377139,492136,199595,631056,385472,267233,224190,284798,348957,365523,861423,182392,437904,470146,707204,245664,786775,203855,214051],\"xaxis\":\"x2\",\"yaxis\":\"y2\",\"type\":\"box\"}],                        {\"template\":{\"data\":{\"bar\":[{\"error_x\":{\"color\":\"#2a3f5f\"},\"error_y\":{\"color\":\"#2a3f5f\"},\"marker\":{\"line\":{\"color\":\"#E5ECF6\",\"width\":0.5},\"pattern\":{\"fillmode\":\"overlay\",\"size\":10,\"solidity\":0.2}},\"type\":\"bar\"}],\"barpolar\":[{\"marker\":{\"line\":{\"color\":\"#E5ECF6\",\"width\":0.5},\"pattern\":{\"fillmode\":\"overlay\",\"size\":10,\"solidity\":0.2}},\"type\":\"barpolar\"}],\"carpet\":[{\"aaxis\":{\"endlinecolor\":\"#2a3f5f\",\"gridcolor\":\"white\",\"linecolor\":\"white\",\"minorgridcolor\":\"white\",\"startlinecolor\":\"#2a3f5f\"},\"baxis\":{\"endlinecolor\":\"#2a3f5f\",\"gridcolor\":\"white\",\"linecolor\":\"white\",\"minorgridcolor\":\"white\",\"startlinecolor\":\"#2a3f5f\"},\"type\":\"carpet\"}],\"choropleth\":[{\"colorbar\":{\"outlinewidth\":0,\"ticks\":\"\"},\"type\":\"choropleth\"}],\"contour\":[{\"colorbar\":{\"outlinewidth\":0,\"ticks\":\"\"},\"colorscale\":[[0.0,\"#0d0887\"],[0.1111111111111111,\"#46039f\"],[0.2222222222222222,\"#7201a8\"],[0.3333333333333333,\"#9c179e\"],[0.4444444444444444,\"#bd3786\"],[0.5555555555555556,\"#d8576b\"],[0.6666666666666666,\"#ed7953\"],[0.7777777777777778,\"#fb9f3a\"],[0.8888888888888888,\"#fdca26\"],[1.0,\"#f0f921\"]],\"type\":\"contour\"}],\"contourcarpet\":[{\"colorbar\":{\"outlinewidth\":0,\"ticks\":\"\"},\"type\":\"contourcarpet\"}],\"heatmap\":[{\"colorbar\":{\"outlinewidth\":0,\"ticks\":\"\"},\"colorscale\":[[0.0,\"#0d0887\"],[0.1111111111111111,\"#46039f\"],[0.2222222222222222,\"#7201a8\"],[0.3333333333333333,\"#9c179e\"],[0.4444444444444444,\"#bd3786\"],[0.5555555555555556,\"#d8576b\"],[0.6666666666666666,\"#ed7953\"],[0.7777777777777778,\"#fb9f3a\"],[0.8888888888888888,\"#fdca26\"],[1.0,\"#f0f921\"]],\"type\":\"heatmap\"}],\"heatmapgl\":[{\"colorbar\":{\"outlinewidth\":0,\"ticks\":\"\"},\"colorscale\":[[0.0,\"#0d0887\"],[0.1111111111111111,\"#46039f\"],[0.2222222222222222,\"#7201a8\"],[0.3333333333333333,\"#9c179e\"],[0.4444444444444444,\"#bd3786\"],[0.5555555555555556,\"#d8576b\"],[0.6666666666666666,\"#ed7953\"],[0.7777777777777778,\"#fb9f3a\"],[0.8888888888888888,\"#fdca26\"],[1.0,\"#f0f921\"]],\"type\":\"heatmapgl\"}],\"histogram\":[{\"marker\":{\"pattern\":{\"fillmode\":\"overlay\",\"size\":10,\"solidity\":0.2}},\"type\":\"histogram\"}],\"histogram2d\":[{\"colorbar\":{\"outlinewidth\":0,\"ticks\":\"\"},\"colorscale\":[[0.0,\"#0d0887\"],[0.1111111111111111,\"#46039f\"],[0.2222222222222222,\"#7201a8\"],[0.3333333333333333,\"#9c179e\"],[0.4444444444444444,\"#bd3786\"],[0.5555555555555556,\"#d8576b\"],[0.6666666666666666,\"#ed7953\"],[0.7777777777777778,\"#fb9f3a\"],[0.8888888888888888,\"#fdca26\"],[1.0,\"#f0f921\"]],\"type\":\"histogram2d\"}],\"histogram2dcontour\":[{\"colorbar\":{\"outlinewidth\":0,\"ticks\":\"\"},\"colorscale\":[[0.0,\"#0d0887\"],[0.1111111111111111,\"#46039f\"],[0.2222222222222222,\"#7201a8\"],[0.3333333333333333,\"#9c179e\"],[0.4444444444444444,\"#bd3786\"],[0.5555555555555556,\"#d8576b\"],[0.6666666666666666,\"#ed7953\"],[0.7777777777777778,\"#fb9f3a\"],[0.8888888888888888,\"#fdca26\"],[1.0,\"#f0f921\"]],\"type\":\"histogram2dcontour\"}],\"mesh3d\":[{\"colorbar\":{\"outlinewidth\":0,\"ticks\":\"\"},\"type\":\"mesh3d\"}],\"parcoords\":[{\"line\":{\"colorbar\":{\"outlinewidth\":0,\"ticks\":\"\"}},\"type\":\"parcoords\"}],\"pie\":[{\"automargin\":true,\"type\":\"pie\"}],\"scatter\":[{\"marker\":{\"colorbar\":{\"outlinewidth\":0,\"ticks\":\"\"}},\"type\":\"scatter\"}],\"scatter3d\":[{\"line\":{\"colorbar\":{\"outlinewidth\":0,\"ticks\":\"\"}},\"marker\":{\"colorbar\":{\"outlinewidth\":0,\"ticks\":\"\"}},\"type\":\"scatter3d\"}],\"scattercarpet\":[{\"marker\":{\"colorbar\":{\"outlinewidth\":0,\"ticks\":\"\"}},\"type\":\"scattercarpet\"}],\"scattergeo\":[{\"marker\":{\"colorbar\":{\"outlinewidth\":0,\"ticks\":\"\"}},\"type\":\"scattergeo\"}],\"scattergl\":[{\"marker\":{\"colorbar\":{\"outlinewidth\":0,\"ticks\":\"\"}},\"type\":\"scattergl\"}],\"scattermapbox\":[{\"marker\":{\"colorbar\":{\"outlinewidth\":0,\"ticks\":\"\"}},\"type\":\"scattermapbox\"}],\"scatterpolar\":[{\"marker\":{\"colorbar\":{\"outlinewidth\":0,\"ticks\":\"\"}},\"type\":\"scatterpolar\"}],\"scatterpolargl\":[{\"marker\":{\"colorbar\":{\"outlinewidth\":0,\"ticks\":\"\"}},\"type\":\"scatterpolargl\"}],\"scatterternary\":[{\"marker\":{\"colorbar\":{\"outlinewidth\":0,\"ticks\":\"\"}},\"type\":\"scatterternary\"}],\"surface\":[{\"colorbar\":{\"outlinewidth\":0,\"ticks\":\"\"},\"colorscale\":[[0.0,\"#0d0887\"],[0.1111111111111111,\"#46039f\"],[0.2222222222222222,\"#7201a8\"],[0.3333333333333333,\"#9c179e\"],[0.4444444444444444,\"#bd3786\"],[0.5555555555555556,\"#d8576b\"],[0.6666666666666666,\"#ed7953\"],[0.7777777777777778,\"#fb9f3a\"],[0.8888888888888888,\"#fdca26\"],[1.0,\"#f0f921\"]],\"type\":\"surface\"}],\"table\":[{\"cells\":{\"fill\":{\"color\":\"#EBF0F8\"},\"line\":{\"color\":\"white\"}},\"header\":{\"fill\":{\"color\":\"#C8D4E3\"},\"line\":{\"color\":\"white\"}},\"type\":\"table\"}]},\"layout\":{\"annotationdefaults\":{\"arrowcolor\":\"#2a3f5f\",\"arrowhead\":0,\"arrowwidth\":1},\"autotypenumbers\":\"strict\",\"coloraxis\":{\"colorbar\":{\"outlinewidth\":0,\"ticks\":\"\"}},\"colorscale\":{\"diverging\":[[0,\"#8e0152\"],[0.1,\"#c51b7d\"],[0.2,\"#de77ae\"],[0.3,\"#f1b6da\"],[0.4,\"#fde0ef\"],[0.5,\"#f7f7f7\"],[0.6,\"#e6f5d0\"],[0.7,\"#b8e186\"],[0.8,\"#7fbc41\"],[0.9,\"#4d9221\"],[1,\"#276419\"]],\"sequential\":[[0.0,\"#0d0887\"],[0.1111111111111111,\"#46039f\"],[0.2222222222222222,\"#7201a8\"],[0.3333333333333333,\"#9c179e\"],[0.4444444444444444,\"#bd3786\"],[0.5555555555555556,\"#d8576b\"],[0.6666666666666666,\"#ed7953\"],[0.7777777777777778,\"#fb9f3a\"],[0.8888888888888888,\"#fdca26\"],[1.0,\"#f0f921\"]],\"sequentialminus\":[[0.0,\"#0d0887\"],[0.1111111111111111,\"#46039f\"],[0.2222222222222222,\"#7201a8\"],[0.3333333333333333,\"#9c179e\"],[0.4444444444444444,\"#bd3786\"],[0.5555555555555556,\"#d8576b\"],[0.6666666666666666,\"#ed7953\"],[0.7777777777777778,\"#fb9f3a\"],[0.8888888888888888,\"#fdca26\"],[1.0,\"#f0f921\"]]},\"colorway\":[\"#636efa\",\"#EF553B\",\"#00cc96\",\"#ab63fa\",\"#FFA15A\",\"#19d3f3\",\"#FF6692\",\"#B6E880\",\"#FF97FF\",\"#FECB52\"],\"font\":{\"color\":\"#2a3f5f\"},\"geo\":{\"bgcolor\":\"white\",\"lakecolor\":\"white\",\"landcolor\":\"#E5ECF6\",\"showlakes\":true,\"showland\":true,\"subunitcolor\":\"white\"},\"hoverlabel\":{\"align\":\"left\"},\"hovermode\":\"closest\",\"mapbox\":{\"style\":\"light\"},\"paper_bgcolor\":\"white\",\"plot_bgcolor\":\"#E5ECF6\",\"polar\":{\"angularaxis\":{\"gridcolor\":\"white\",\"linecolor\":\"white\",\"ticks\":\"\"},\"bgcolor\":\"#E5ECF6\",\"radialaxis\":{\"gridcolor\":\"white\",\"linecolor\":\"white\",\"ticks\":\"\"}},\"scene\":{\"xaxis\":{\"backgroundcolor\":\"#E5ECF6\",\"gridcolor\":\"white\",\"gridwidth\":2,\"linecolor\":\"white\",\"showbackground\":true,\"ticks\":\"\",\"zerolinecolor\":\"white\"},\"yaxis\":{\"backgroundcolor\":\"#E5ECF6\",\"gridcolor\":\"white\",\"gridwidth\":2,\"linecolor\":\"white\",\"showbackground\":true,\"ticks\":\"\",\"zerolinecolor\":\"white\"},\"zaxis\":{\"backgroundcolor\":\"#E5ECF6\",\"gridcolor\":\"white\",\"gridwidth\":2,\"linecolor\":\"white\",\"showbackground\":true,\"ticks\":\"\",\"zerolinecolor\":\"white\"}},\"shapedefaults\":{\"line\":{\"color\":\"#2a3f5f\"}},\"ternary\":{\"aaxis\":{\"gridcolor\":\"white\",\"linecolor\":\"white\",\"ticks\":\"\"},\"baxis\":{\"gridcolor\":\"white\",\"linecolor\":\"white\",\"ticks\":\"\"},\"bgcolor\":\"#E5ECF6\",\"caxis\":{\"gridcolor\":\"white\",\"linecolor\":\"white\",\"ticks\":\"\"}},\"title\":{\"x\":0.05},\"xaxis\":{\"automargin\":true,\"gridcolor\":\"white\",\"linecolor\":\"white\",\"ticks\":\"\",\"title\":{\"standoff\":15},\"zerolinecolor\":\"white\",\"zerolinewidth\":2},\"yaxis\":{\"automargin\":true,\"gridcolor\":\"white\",\"linecolor\":\"white\",\"ticks\":\"\",\"title\":{\"standoff\":15},\"zerolinecolor\":\"white\",\"zerolinewidth\":2}}},\"xaxis\":{\"anchor\":\"y\",\"domain\":[0.0,1.0],\"title\":{\"text\":\"ratingCount\"}},\"yaxis\":{\"anchor\":\"x\",\"domain\":[0.0,0.8316],\"title\":{\"text\":\"count\"}},\"xaxis2\":{\"anchor\":\"y2\",\"domain\":[0.0,1.0],\"matches\":\"x\",\"showticklabels\":false,\"showgrid\":true},\"yaxis2\":{\"anchor\":\"x2\",\"domain\":[0.8416,1.0],\"matches\":\"y2\",\"showticklabels\":false,\"showline\":false,\"ticks\":\"\",\"showgrid\":false},\"legend\":{\"tracegroupgap\":0},\"title\":{\"text\":\"Distribution of rating counts\"},\"barmode\":\"relative\",\"bargap\":0.1},                        {\"responsive\": true}                    ).then(function(){\n",
       "                            \n",
       "var gd = document.getElementById('a2e4020b-c15e-40e5-a935-fc8ce08d4462');\n",
       "var x = new MutationObserver(function (mutations, observer) {{\n",
       "        var display = window.getComputedStyle(gd).display;\n",
       "        if (!display || display === 'none') {{\n",
       "            console.log([gd, 'removed!']);\n",
       "            Plotly.purge(gd);\n",
       "            observer.disconnect();\n",
       "        }}\n",
       "}});\n",
       "\n",
       "// Listen for the removal of the full notebook cells\n",
       "var notebookContainer = gd.closest('#notebook-container');\n",
       "if (notebookContainer) {{\n",
       "    x.observe(notebookContainer, {childList: true});\n",
       "}}\n",
       "\n",
       "// Listen for the clearing of the current output cell\n",
       "var outputEl = gd.closest('.output');\n",
       "if (outputEl) {{\n",
       "    x.observe(outputEl, {childList: true});\n",
       "}}\n",
       "\n",
       "                        })                };                });            </script>        </div>"
      ]
     },
     "metadata": {},
     "output_type": "display_data"
    }
   ],
   "source": [
    "fig = px.histogram(clean_df,\n",
    "                  x = 'rating Count',\n",
    "                  marginal = 'box',\n",
    "                   nbins = 20,\n",
    "                title = 'Distribution of rating counts',\n",
    "                color_discrete_sequence = ['red']\n",
    "                )\n",
    "fig.update_layout(bargap= 0.1)\n",
    "fig.show()"
   ]
  },
  {
   "cell_type": "code",
   "execution_count": 117,
   "id": "fc6bf96a",
   "metadata": {},
   "outputs": [
    {
     "data": {
      "text/plain": [
       "0.23480893570077632"
      ]
     },
     "execution_count": 117,
     "metadata": {},
     "output_type": "execute_result"
    }
   ],
   "source": [
    "#Correlation of Avg_rating with page_count\n",
    "clean_df.rating.corr(clean_df.page_count)"
   ]
  },
  {
   "cell_type": "code",
   "execution_count": 120,
   "id": "04c594ff",
   "metadata": {},
   "outputs": [
    {
     "name": "stdout",
     "output_type": "stream",
     "text": [
      "0.06918824179587163\n"
     ]
    }
   ],
   "source": [
    "#Correlation of Avg_rating with rating_count\n",
    "print(clean_df.rating.corr(clean_df.ratingCount))\n"
   ]
  },
  {
   "cell_type": "code",
   "execution_count": 121,
   "id": "d2c40b05",
   "metadata": {},
   "outputs": [
    {
     "data": {
      "text/html": [
       "<div>\n",
       "<style scoped>\n",
       "    .dataframe tbody tr th:only-of-type {\n",
       "        vertical-align: middle;\n",
       "    }\n",
       "\n",
       "    .dataframe tbody tr th {\n",
       "        vertical-align: top;\n",
       "    }\n",
       "\n",
       "    .dataframe thead th {\n",
       "        text-align: right;\n",
       "    }\n",
       "</style>\n",
       "<table border=\"1\" class=\"dataframe\">\n",
       "  <thead>\n",
       "    <tr style=\"text-align: right;\">\n",
       "      <th></th>\n",
       "      <th>page_count</th>\n",
       "      <th>rating</th>\n",
       "      <th>ratingCount</th>\n",
       "    </tr>\n",
       "  </thead>\n",
       "  <tbody>\n",
       "    <tr>\n",
       "      <th>page_count</th>\n",
       "      <td>1.000000</td>\n",
       "      <td>0.234809</td>\n",
       "      <td>-0.109722</td>\n",
       "    </tr>\n",
       "    <tr>\n",
       "      <th>rating</th>\n",
       "      <td>0.234809</td>\n",
       "      <td>1.000000</td>\n",
       "      <td>0.069188</td>\n",
       "    </tr>\n",
       "    <tr>\n",
       "      <th>ratingCount</th>\n",
       "      <td>-0.109722</td>\n",
       "      <td>0.069188</td>\n",
       "      <td>1.000000</td>\n",
       "    </tr>\n",
       "  </tbody>\n",
       "</table>\n",
       "</div>"
      ],
      "text/plain": [
       "             page_count    rating  ratingCount\n",
       "page_count     1.000000  0.234809    -0.109722\n",
       "rating         0.234809  1.000000     0.069188\n",
       "ratingCount   -0.109722  0.069188     1.000000"
      ]
     },
     "execution_count": 121,
     "metadata": {},
     "output_type": "execute_result"
    }
   ],
   "source": [
    "clean_df.corr()"
   ]
  },
  {
   "cell_type": "code",
   "execution_count": 123,
   "id": "98560261",
   "metadata": {},
   "outputs": [
    {
     "data": {
      "image/png": "[encoded data removed]",
      "text/plain": [
       "<Figure size 432x288 with 2 Axes>"
      ]
     },
     "metadata": {
      "needs_background": "light"
     },
     "output_type": "display_data"
    }
   ],
   "source": [
    "sns.heatmap(clean_df.corr(), cmap = 'Reds', annot = True);"
   ]
  },
  {
   "cell_type": "markdown",
   "id": "518efc58",
   "metadata": {},
   "source": [
    "## Linear Regression model:\n",
    "\n",
    "\n",
    "\n",
    "The aim of this section is to come up with a model for predicting the book ratings. I'll use linear regression to build a model that predicts book ratings. \n",
    "\n",
    "The variables in my model are:\n",
    "\n",
    "  - The input or predictor variable is the variable(s) that help predict the value of the output variable. It is commonly referred to as X i.e \"rating\".\n",
    "    \n",
    " - The output variable is the variable that we want to predict. It is commonly referred to as y.\n",
    "\n"
   ]
  },
  {
   "cell_type": "code",
   "execution_count": 127,
   "id": "8599b501",
   "metadata": {},
   "outputs": [],
   "source": [
    "from sklearn import metrics\n",
    "from sklearn import preprocessing\n",
    "from sklearn.linear_model import LinearRegression\n",
    "from sklearn.model_selection import train_test_split"
   ]
  },
  {
   "cell_type": "code",
   "execution_count": 156,
   "id": "855dd2ba",
   "metadata": {},
   "outputs": [],
   "source": [
    "X = clean_df['page_count'].array\n",
    "y = clean_df['rating']"
   ]
  },
  {
   "cell_type": "code",
   "execution_count": 157,
   "id": "a5e68683",
   "metadata": {},
   "outputs": [],
   "source": [
    "# Split 80% of the data for Training set and 20% for test set\n",
    "X_train, X_test, y_train, y_test = train_test_split(X, y, test_size = 0.25, random_state = 10)"
   ]
  },
  {
   "cell_type": "code",
   "execution_count": 166,
   "id": "44c5c20f",
   "metadata": {},
   "outputs": [
    {
     "data": {
      "text/plain": [
       "0.060182261678353166"
      ]
     },
     "execution_count": 166,
     "metadata": {},
     "output_type": "execute_result"
    }
   ],
   "source": [
    "lr = LinearRegression()\n",
    "lr.fit(X_train.reshape(-1,1), y_train)\n"
   ]
  },
  {
   "cell_type": "code",
   "execution_count": 167,
   "id": "acaec659",
   "metadata": {},
   "outputs": [
    {
     "data": {
      "text/plain": [
       "0.060182261678353166"
      ]
     },
     "execution_count": 167,
     "metadata": {},
     "output_type": "execute_result"
    }
   ],
   "source": [
    "# Use test data to check accurately our algorithm predicts the percentage score.\n",
    "predictions = lr.predict(X_test.reshape(-1,1))\n",
    "\n",
    "lr.score(X_train.reshape(-1,1), y_train)"
   ]
  },
  {
   "cell_type": "code",
   "execution_count": 162,
   "id": "8d34f57c",
   "metadata": {},
   "outputs": [
    {
     "data": {
      "text/html": [
       "<div>\n",
       "<style scoped>\n",
       "    .dataframe tbody tr th:only-of-type {\n",
       "        vertical-align: middle;\n",
       "    }\n",
       "\n",
       "    .dataframe tbody tr th {\n",
       "        vertical-align: top;\n",
       "    }\n",
       "\n",
       "    .dataframe thead th {\n",
       "        text-align: right;\n",
       "    }\n",
       "</style>\n",
       "<table border=\"1\" class=\"dataframe\">\n",
       "  <thead>\n",
       "    <tr style=\"text-align: right;\">\n",
       "      <th></th>\n",
       "      <th>Actual</th>\n",
       "      <th>Predicted</th>\n",
       "    </tr>\n",
       "  </thead>\n",
       "  <tbody>\n",
       "    <tr>\n",
       "      <th>0</th>\n",
       "      <td>4.18</td>\n",
       "      <td>4.071900</td>\n",
       "    </tr>\n",
       "    <tr>\n",
       "      <th>1</th>\n",
       "      <td>4.01</td>\n",
       "      <td>4.108515</td>\n",
       "    </tr>\n",
       "    <tr>\n",
       "      <th>2</th>\n",
       "      <td>3.79</td>\n",
       "      <td>4.149789</td>\n",
       "    </tr>\n",
       "    <tr>\n",
       "      <th>3</th>\n",
       "      <td>3.52</td>\n",
       "      <td>4.145961</td>\n",
       "    </tr>\n",
       "    <tr>\n",
       "      <th>4</th>\n",
       "      <td>4.24</td>\n",
       "      <td>4.200717</td>\n",
       "    </tr>\n",
       "    <tr>\n",
       "      <th>5</th>\n",
       "      <td>3.84</td>\n",
       "      <td>4.111011</td>\n",
       "    </tr>\n",
       "    <tr>\n",
       "      <th>6</th>\n",
       "      <td>4.02</td>\n",
       "      <td>4.147293</td>\n",
       "    </tr>\n",
       "    <tr>\n",
       "      <th>7</th>\n",
       "      <td>4.30</td>\n",
       "      <td>4.231839</td>\n",
       "    </tr>\n",
       "    <tr>\n",
       "      <th>8</th>\n",
       "      <td>4.25</td>\n",
       "      <td>4.113674</td>\n",
       "    </tr>\n",
       "    <tr>\n",
       "      <th>9</th>\n",
       "      <td>4.28</td>\n",
       "      <td>4.140303</td>\n",
       "    </tr>\n",
       "  </tbody>\n",
       "</table>\n",
       "</div>"
      ],
      "text/plain": [
       "   Actual  Predicted\n",
       "0    4.18   4.071900\n",
       "1    4.01   4.108515\n",
       "2    3.79   4.149789\n",
       "3    3.52   4.145961\n",
       "4    4.24   4.200717\n",
       "5    3.84   4.111011\n",
       "6    4.02   4.147293\n",
       "7    4.30   4.231839\n",
       "8    4.25   4.113674\n",
       "9    4.28   4.140303"
      ]
     },
     "execution_count": 162,
     "metadata": {},
     "output_type": "execute_result"
    }
   ],
   "source": [
    "#comparing the actual output values for X_test with the predicted values.\n",
    "\n",
    "pred = pd.DataFrame({'Actual': y_test.tolist(), 'Predicted': predictions.tolist()}).head(25)\n",
    "pred.head(10)"
   ]
  },
  {
   "cell_type": "code",
   "execution_count": 163,
   "id": "6963bc40",
   "metadata": {},
   "outputs": [
    {
     "data": {
      "text/plain": [
       "<AxesSubplot:>"
      ]
     },
     "execution_count": 163,
     "metadata": {},
     "output_type": "execute_result"
    },
    {
     "data": {
      "image/png": "[encoded data removed]",
      "text/plain": [
       "<Figure size 936x504 with 1 Axes>"
      ]
     },
     "metadata": {
      "needs_background": "light"
     },
     "output_type": "display_data"
    }
   ],
   "source": [
    "pred.plot(kind='bar', figsize=(13, 7))"
   ]
  },
  {
   "cell_type": "code",
   "execution_count": 164,
   "id": "99111e23",
   "metadata": {},
   "outputs": [
    {
     "name": "stdout",
     "output_type": "stream",
     "text": [
      "MAE: 0.172722582026662\n",
      "MSE: 0.052813366663718796\n",
      "RMSE: 0.22981158948956162\n"
     ]
    }
   ],
   "source": [
    "# evaluating the performance of the algorithm\n",
    "print('MAE:', metrics.mean_absolute_error(y_test, predictions))\n",
    "print('MSE:', metrics.mean_squared_error(y_test, predictions))\n",
    "print('RMSE:', np.sqrt(metrics.mean_squared_error(y_test, predictions)))"
   ]
  },
  {
   "cell_type": "code",
   "execution_count": 168,
   "id": "e743b7c6",
   "metadata": {},
   "outputs": [
    {
     "data": {
      "text/plain": [
       "0.060182261678353166"
      ]
     },
     "execution_count": 168,
     "metadata": {},
     "output_type": "execute_result"
    }
   ],
   "source": [
    "lr.score(X_train.reshape(-1,1), y_train)"
   ]
  },
  {
   "cell_type": "code",
   "execution_count": null,
   "id": "f37ba6e3",
   "metadata": {},
   "outputs": [],
   "source": []
  }
 ],
 "metadata": {
  "kernelspec": {
   "display_name": "Python [conda env:metis] *",
   "language": "python",
   "name": "conda-env-metis-py"
  },
  "language_info": {
   "codemirror_mode": {
    "name": "ipython",
    "version": 3
   },
   "file_extension": ".py",
   "mimetype": "text/x-python",
   "name": "python",
   "nbconvert_exporter": "python",
   "pygments_lexer": "ipython3",
   "version": "3.9.9"
  }
 },
 "nbformat": 4,
 "nbformat_minor": 5
}
